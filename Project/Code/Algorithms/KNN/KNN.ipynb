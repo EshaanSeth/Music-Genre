{
 "cells": [
  {
   "cell_type": "code",
   "execution_count": 120,
   "metadata": {},
   "outputs": [],
   "source": [
    "from sklearn.utils import shuffle\n",
    "import pandas as pd\n",
    "import numpy as np\n",
    "import matplotlib.pyplot as plt\n",
    "%matplotlib inline"
   ]
  },
  {
   "cell_type": "code",
   "execution_count": 121,
   "metadata": {},
   "outputs": [],
   "source": [
    "data = shuffle(pd.read_csv(\"music.csv\"))\n"
   ]
  },
  {
   "cell_type": "code",
   "execution_count": 122,
   "metadata": {},
   "outputs": [
    {
     "data": {
      "text/plain": [
       "(1000, 28)"
      ]
     },
     "execution_count": 122,
     "metadata": {},
     "output_type": "execute_result"
    }
   ],
   "source": [
    "data.shape"
   ]
  },
  {
   "cell_type": "code",
   "execution_count": 123,
   "metadata": {},
   "outputs": [
    {
     "data": {
      "text/html": [
       "<div>\n",
       "<style scoped>\n",
       "    .dataframe tbody tr th:only-of-type {\n",
       "        vertical-align: middle;\n",
       "    }\n",
       "\n",
       "    .dataframe tbody tr th {\n",
       "        vertical-align: top;\n",
       "    }\n",
       "\n",
       "    .dataframe thead th {\n",
       "        text-align: right;\n",
       "    }\n",
       "</style>\n",
       "<table border=\"1\" class=\"dataframe\">\n",
       "  <thead>\n",
       "    <tr style=\"text-align: right;\">\n",
       "      <th></th>\n",
       "      <th>filename</th>\n",
       "      <th>chroma_stft</th>\n",
       "      <th>rmse</th>\n",
       "      <th>spectral_centroid</th>\n",
       "      <th>spectral_bandwidth</th>\n",
       "      <th>rolloff</th>\n",
       "      <th>zero_crossing_rate</th>\n",
       "      <th>mfcc1</th>\n",
       "      <th>mfcc2</th>\n",
       "      <th>mfcc3</th>\n",
       "      <th>...</th>\n",
       "      <th>mfcc12</th>\n",
       "      <th>mfcc13</th>\n",
       "      <th>mfcc14</th>\n",
       "      <th>mfcc15</th>\n",
       "      <th>mfcc16</th>\n",
       "      <th>mfcc17</th>\n",
       "      <th>mfcc18</th>\n",
       "      <th>mfcc19</th>\n",
       "      <th>mfcc20</th>\n",
       "      <th>label</th>\n",
       "    </tr>\n",
       "  </thead>\n",
       "  <tbody>\n",
       "    <tr>\n",
       "      <th>751</th>\n",
       "      <td>pop.00051.wav</td>\n",
       "      <td>0.447051</td>\n",
       "      <td>5.713659</td>\n",
       "      <td>4156.047953</td>\n",
       "      <td>3451.254770</td>\n",
       "      <td>8676.405868</td>\n",
       "      <td>0.230045</td>\n",
       "      <td>-14.143276</td>\n",
       "      <td>44.389580</td>\n",
       "      <td>12.682171</td>\n",
       "      <td>...</td>\n",
       "      <td>-0.866477</td>\n",
       "      <td>3.806729</td>\n",
       "      <td>1.664475</td>\n",
       "      <td>1.505237</td>\n",
       "      <td>-0.191124</td>\n",
       "      <td>-1.022330</td>\n",
       "      <td>4.780417</td>\n",
       "      <td>4.864114</td>\n",
       "      <td>3.055194</td>\n",
       "      <td>pop</td>\n",
       "    </tr>\n",
       "    <tr>\n",
       "      <th>938</th>\n",
       "      <td>rock.00038.wav</td>\n",
       "      <td>0.411539</td>\n",
       "      <td>4.750198</td>\n",
       "      <td>2794.957194</td>\n",
       "      <td>2633.944002</td>\n",
       "      <td>5862.414551</td>\n",
       "      <td>0.140550</td>\n",
       "      <td>-15.900696</td>\n",
       "      <td>67.150525</td>\n",
       "      <td>-20.123927</td>\n",
       "      <td>...</td>\n",
       "      <td>1.096384</td>\n",
       "      <td>-1.739961</td>\n",
       "      <td>5.707216</td>\n",
       "      <td>-0.592025</td>\n",
       "      <td>1.724953</td>\n",
       "      <td>-1.576261</td>\n",
       "      <td>1.581885</td>\n",
       "      <td>0.414775</td>\n",
       "      <td>2.936304</td>\n",
       "      <td>rock</td>\n",
       "    </tr>\n",
       "    <tr>\n",
       "      <th>503</th>\n",
       "      <td>jazz.00003.wav</td>\n",
       "      <td>0.319313</td>\n",
       "      <td>-5.560664</td>\n",
       "      <td>813.293729</td>\n",
       "      <td>1058.898921</td>\n",
       "      <td>1417.008098</td>\n",
       "      <td>0.044674</td>\n",
       "      <td>-297.215109</td>\n",
       "      <td>193.096518</td>\n",
       "      <td>10.161530</td>\n",
       "      <td>...</td>\n",
       "      <td>0.378860</td>\n",
       "      <td>-4.962201</td>\n",
       "      <td>3.240837</td>\n",
       "      <td>-4.476338</td>\n",
       "      <td>-1.891066</td>\n",
       "      <td>-2.272844</td>\n",
       "      <td>3.883316</td>\n",
       "      <td>0.344252</td>\n",
       "      <td>-2.214156</td>\n",
       "      <td>jazz</td>\n",
       "    </tr>\n",
       "    <tr>\n",
       "      <th>500</th>\n",
       "      <td>jazz.00000.wav</td>\n",
       "      <td>0.344568</td>\n",
       "      <td>-7.565382</td>\n",
       "      <td>1504.404759</td>\n",
       "      <td>1754.409592</td>\n",
       "      <td>2800.374733</td>\n",
       "      <td>0.078464</td>\n",
       "      <td>-251.967318</td>\n",
       "      <td>137.889999</td>\n",
       "      <td>-11.156484</td>\n",
       "      <td>...</td>\n",
       "      <td>-3.148508</td>\n",
       "      <td>-1.848463</td>\n",
       "      <td>-1.002679</td>\n",
       "      <td>-2.589935</td>\n",
       "      <td>-1.962403</td>\n",
       "      <td>-1.502332</td>\n",
       "      <td>0.221480</td>\n",
       "      <td>-1.991628</td>\n",
       "      <td>-3.348312</td>\n",
       "      <td>jazz</td>\n",
       "    </tr>\n",
       "    <tr>\n",
       "      <th>58</th>\n",
       "      <td>blues.00058.wav</td>\n",
       "      <td>0.356588</td>\n",
       "      <td>1.913341</td>\n",
       "      <td>2068.371125</td>\n",
       "      <td>2033.930047</td>\n",
       "      <td>4231.499413</td>\n",
       "      <td>0.104372</td>\n",
       "      <td>-95.436027</td>\n",
       "      <td>105.216700</td>\n",
       "      <td>-26.953012</td>\n",
       "      <td>...</td>\n",
       "      <td>10.262575</td>\n",
       "      <td>-9.438187</td>\n",
       "      <td>3.867535</td>\n",
       "      <td>-10.187453</td>\n",
       "      <td>3.588093</td>\n",
       "      <td>-3.100753</td>\n",
       "      <td>0.194597</td>\n",
       "      <td>0.842872</td>\n",
       "      <td>-3.416576</td>\n",
       "      <td>blues</td>\n",
       "    </tr>\n",
       "  </tbody>\n",
       "</table>\n",
       "<p>5 rows × 28 columns</p>\n",
       "</div>"
      ],
      "text/plain": [
       "            filename  chroma_stft      rmse  spectral_centroid  \\\n",
       "751    pop.00051.wav     0.447051  5.713659        4156.047953   \n",
       "938   rock.00038.wav     0.411539  4.750198        2794.957194   \n",
       "503   jazz.00003.wav     0.319313 -5.560664         813.293729   \n",
       "500   jazz.00000.wav     0.344568 -7.565382        1504.404759   \n",
       "58   blues.00058.wav     0.356588  1.913341        2068.371125   \n",
       "\n",
       "     spectral_bandwidth      rolloff  zero_crossing_rate       mfcc1  \\\n",
       "751         3451.254770  8676.405868            0.230045  -14.143276   \n",
       "938         2633.944002  5862.414551            0.140550  -15.900696   \n",
       "503         1058.898921  1417.008098            0.044674 -297.215109   \n",
       "500         1754.409592  2800.374733            0.078464 -251.967318   \n",
       "58          2033.930047  4231.499413            0.104372  -95.436027   \n",
       "\n",
       "          mfcc2      mfcc3  ...     mfcc12    mfcc13    mfcc14     mfcc15  \\\n",
       "751   44.389580  12.682171  ...  -0.866477  3.806729  1.664475   1.505237   \n",
       "938   67.150525 -20.123927  ...   1.096384 -1.739961  5.707216  -0.592025   \n",
       "503  193.096518  10.161530  ...   0.378860 -4.962201  3.240837  -4.476338   \n",
       "500  137.889999 -11.156484  ...  -3.148508 -1.848463 -1.002679  -2.589935   \n",
       "58   105.216700 -26.953012  ...  10.262575 -9.438187  3.867535 -10.187453   \n",
       "\n",
       "       mfcc16    mfcc17    mfcc18    mfcc19    mfcc20  label  \n",
       "751 -0.191124 -1.022330  4.780417  4.864114  3.055194    pop  \n",
       "938  1.724953 -1.576261  1.581885  0.414775  2.936304   rock  \n",
       "503 -1.891066 -2.272844  3.883316  0.344252 -2.214156   jazz  \n",
       "500 -1.962403 -1.502332  0.221480 -1.991628 -3.348312   jazz  \n",
       "58   3.588093 -3.100753  0.194597  0.842872 -3.416576  blues  \n",
       "\n",
       "[5 rows x 28 columns]"
      ]
     },
     "execution_count": 123,
     "metadata": {},
     "output_type": "execute_result"
    }
   ],
   "source": [
    "data.head()"
   ]
  },
  {
   "cell_type": "code",
   "execution_count": 124,
   "metadata": {},
   "outputs": [
    {
     "data": {
      "text/plain": [
       "array([7, 9, 5, 0, 2, 8, 4, 1, 6, 3])"
      ]
     },
     "execution_count": 124,
     "metadata": {},
     "output_type": "execute_result"
    }
   ],
   "source": [
    "from sklearn import preprocessing \n",
    "  \n",
    "# label_encoder object knows how to understand word labels. \n",
    "label_encoder = preprocessing.LabelEncoder() \n",
    "  \n",
    "# Encode labels in column 'species'. \n",
    "data['label']= label_encoder.fit_transform(data['label']) \n",
    "data['filename']=label_encoder.fit_transform(data['filename'])  \n",
    "data['label'].unique() \n",
    "#data['filename'].unique() "
   ]
  },
  {
   "cell_type": "code",
   "execution_count": 125,
   "metadata": {},
   "outputs": [],
   "source": [
    "X = data.drop('label', axis=1)\n",
    "y = data['label']"
   ]
  },
  {
   "cell_type": "code",
   "execution_count": 126,
   "metadata": {},
   "outputs": [],
   "source": [
    "from sklearn.model_selection import train_test_split\n",
    "X_train, X_test, y_train, y_test = train_test_split(X, y, test_size = 0.20)"
   ]
  },
  {
   "cell_type": "code",
   "execution_count": 127,
   "metadata": {},
   "outputs": [],
   "source": [
    "from sklearn.neighbors import KNeighborsClassifier\n",
    "from sklearn import metrics"
   ]
  },
  {
   "cell_type": "code",
   "execution_count": 128,
   "metadata": {},
   "outputs": [
    {
     "name": "stdout",
     "output_type": "stream",
     "text": [
      "0.77\n",
      "0.765\n",
      "0.775\n",
      "0.8\n",
      "0.77\n",
      "0.785\n",
      "0.765\n",
      "0.775\n",
      "0.76\n",
      "0.76\n",
      "0.74\n",
      "0.735\n",
      "0.74\n",
      "0.725\n",
      "0.72\n",
      "0.705\n",
      "0.71\n",
      "0.695\n",
      "0.685\n",
      "0.695\n",
      "0.69\n",
      "0.665\n",
      "0.665\n",
      "0.67\n"
     ]
    }
   ],
   "source": [
    "k_range = range(2,26)\n",
    "scores = {}\n",
    "scores_list = []\n",
    "error = []\n",
    "for k in k_range:\n",
    "    knn = KNeighborsClassifier(n_neighbors = k)\n",
    "    knn.fit(X_train, y_train)\n",
    "    y_pred = knn.predict(X_test)\n",
    "    scores[k] = metrics.accuracy_score(y_test, y_pred)\n",
    "    scores_list.append(metrics.accuracy_score(y_test, y_pred))\n",
    "    print(scores[k])\n",
    "    "
   ]
  },
  {
   "cell_type": "code",
   "execution_count": 135,
   "metadata": {},
   "outputs": [],
   "source": [
    "import numpy as np\n",
    "from numpy import linalg as LA \n",
    "import seaborn as sn"
   ]
  },
  {
   "cell_type": "code",
   "execution_count": 136,
   "metadata": {},
   "outputs": [
    {
     "data": {
      "image/png": "[encoded data removed]",
      "text/plain": [
       "<Figure size 432x288 with 1 Axes>"
      ]
     },
     "metadata": {
      "needs_background": "light"
     },
     "output_type": "display_data"
    }
   ],
   "source": [
    "import matplotlib.pyplot as plt\n",
    "x = [3,4,5,6,7,8,9,10,11,12,13,14,15,16,17,18,19,20,21,22,23,24,25,26] \n",
    "y = [ 0.77,0.765,0.775,0.8,0.77,0.785,0.765,0.775,0.76,0.76,0.74,0.735,\n",
    "0.74,0.725,0.72,0.705,0.71,0.695,0.685,0.695,0.69,0.665,0.665,0.67]\n",
    "plt.plot(x,y)\n",
    "plt.xlabel(\"K value\")\n",
    "plt.ylabel(\"K's accuracy\")\n",
    "plt.title(\"KNN accuracy\")\n",
    "plt.show()\n",
    "\n"
   ]
  },
  {
   "cell_type": "code",
   "execution_count": null,
   "metadata": {},
   "outputs": [],
   "source": []
  }
 ],
 "metadata": {
  "kernelspec": {
   "display_name": "Python 3",
   "language": "python",
   "name": "python3"
  },
  "language_info": {
   "codemirror_mode": {
    "name": "ipython",
    "version": 3
   },
   "file_extension": ".py",
   "mimetype": "text/x-python",
   "name": "python",
   "nbconvert_exporter": "python",
   "pygments_lexer": "ipython3",
   "version": "3.7.6"
  }
 },
 "nbformat": 4,
 "nbformat_minor": 4
}
