{
 "cells": [
  {
   "cell_type": "code",
   "execution_count": 25,
   "metadata": {},
   "outputs": [],
   "source": [
    "import keras\n",
    "from keras.models import Sequential\n",
    "from keras.layers import Dense\n",
    "from keras.utils import plot_model\n",
    "import seaborn as sns\n",
    "import pandas as pd\n",
    "import numpy as np\n",
    "\n",
    "#dataset import\n",
    "dataset = pd.read_csv('d://data.csv') \n"
   ]
  },
  {
   "cell_type": "code",
   "execution_count": 26,
   "metadata": {},
   "outputs": [
    {
     "data": {
      "text/html": [
       "<div>\n",
       "<style scoped>\n",
       "    .dataframe tbody tr th:only-of-type {\n",
       "        vertical-align: middle;\n",
       "    }\n",
       "\n",
       "    .dataframe tbody tr th {\n",
       "        vertical-align: top;\n",
       "    }\n",
       "\n",
       "    .dataframe thead th {\n",
       "        text-align: right;\n",
       "    }\n",
       "</style>\n",
       "<table border=\"1\" class=\"dataframe\">\n",
       "  <thead>\n",
       "    <tr style=\"text-align: right;\">\n",
       "      <th></th>\n",
       "      <th>chroma_stft</th>\n",
       "      <th>spectral_centroid</th>\n",
       "      <th>spectral_bandwidth</th>\n",
       "      <th>mfcc1</th>\n",
       "      <th>mfcc2</th>\n",
       "      <th>mfcc3</th>\n",
       "      <th>mfcc4</th>\n",
       "      <th>mfcc5</th>\n",
       "      <th>mfcc6</th>\n",
       "      <th>mfcc7</th>\n",
       "      <th>...</th>\n",
       "      <th>mfcc12</th>\n",
       "      <th>mfcc13</th>\n",
       "      <th>mfcc14</th>\n",
       "      <th>mfcc15</th>\n",
       "      <th>mfcc16</th>\n",
       "      <th>mfcc17</th>\n",
       "      <th>mfcc18</th>\n",
       "      <th>mfcc19</th>\n",
       "      <th>mfcc20</th>\n",
       "      <th>label</th>\n",
       "    </tr>\n",
       "  </thead>\n",
       "  <tbody>\n",
       "    <tr>\n",
       "      <th>0</th>\n",
       "      <td>0.349943</td>\n",
       "      <td>1784.420446</td>\n",
       "      <td>2002.650192</td>\n",
       "      <td>-113.596742</td>\n",
       "      <td>121.557302</td>\n",
       "      <td>-19.158825</td>\n",
       "      <td>42.351029</td>\n",
       "      <td>-6.376457</td>\n",
       "      <td>18.618875</td>\n",
       "      <td>-13.697911</td>\n",
       "      <td>...</td>\n",
       "      <td>8.810668</td>\n",
       "      <td>-3.667367</td>\n",
       "      <td>5.751690</td>\n",
       "      <td>-5.162761</td>\n",
       "      <td>0.750947</td>\n",
       "      <td>-1.691937</td>\n",
       "      <td>-0.409954</td>\n",
       "      <td>-2.300208</td>\n",
       "      <td>1.219928</td>\n",
       "      <td>blues</td>\n",
       "    </tr>\n",
       "    <tr>\n",
       "      <th>1</th>\n",
       "      <td>0.340983</td>\n",
       "      <td>1529.835316</td>\n",
       "      <td>2038.617579</td>\n",
       "      <td>-207.556796</td>\n",
       "      <td>124.006717</td>\n",
       "      <td>8.930562</td>\n",
       "      <td>35.874684</td>\n",
       "      <td>2.916038</td>\n",
       "      <td>21.523725</td>\n",
       "      <td>-8.554703</td>\n",
       "      <td>...</td>\n",
       "      <td>5.376802</td>\n",
       "      <td>-2.239119</td>\n",
       "      <td>4.216963</td>\n",
       "      <td>-6.012273</td>\n",
       "      <td>0.936109</td>\n",
       "      <td>-0.716537</td>\n",
       "      <td>0.293875</td>\n",
       "      <td>-0.287431</td>\n",
       "      <td>0.531573</td>\n",
       "      <td>blues</td>\n",
       "    </tr>\n",
       "    <tr>\n",
       "      <th>2</th>\n",
       "      <td>0.363603</td>\n",
       "      <td>1552.481958</td>\n",
       "      <td>1747.165985</td>\n",
       "      <td>-90.754394</td>\n",
       "      <td>140.459907</td>\n",
       "      <td>-29.109965</td>\n",
       "      <td>31.689014</td>\n",
       "      <td>-13.987036</td>\n",
       "      <td>25.754761</td>\n",
       "      <td>-13.649586</td>\n",
       "      <td>...</td>\n",
       "      <td>5.789265</td>\n",
       "      <td>-8.905224</td>\n",
       "      <td>-1.083720</td>\n",
       "      <td>-9.218359</td>\n",
       "      <td>2.455805</td>\n",
       "      <td>-7.726901</td>\n",
       "      <td>-1.815724</td>\n",
       "      <td>-3.433434</td>\n",
       "      <td>-2.226821</td>\n",
       "      <td>blues</td>\n",
       "    </tr>\n",
       "    <tr>\n",
       "      <th>3</th>\n",
       "      <td>0.404779</td>\n",
       "      <td>1070.119953</td>\n",
       "      <td>1596.333948</td>\n",
       "      <td>-199.431144</td>\n",
       "      <td>150.099218</td>\n",
       "      <td>5.647594</td>\n",
       "      <td>26.871927</td>\n",
       "      <td>1.754463</td>\n",
       "      <td>14.238344</td>\n",
       "      <td>-4.830882</td>\n",
       "      <td>...</td>\n",
       "      <td>6.087676</td>\n",
       "      <td>-2.476420</td>\n",
       "      <td>-1.073890</td>\n",
       "      <td>-2.874777</td>\n",
       "      <td>0.780976</td>\n",
       "      <td>-3.316932</td>\n",
       "      <td>0.637981</td>\n",
       "      <td>-0.619690</td>\n",
       "      <td>-3.408233</td>\n",
       "      <td>blues</td>\n",
       "    </tr>\n",
       "    <tr>\n",
       "      <th>4</th>\n",
       "      <td>0.308590</td>\n",
       "      <td>1835.494603</td>\n",
       "      <td>1748.362448</td>\n",
       "      <td>-160.266031</td>\n",
       "      <td>126.198800</td>\n",
       "      <td>-35.605448</td>\n",
       "      <td>22.153301</td>\n",
       "      <td>-32.489270</td>\n",
       "      <td>10.864512</td>\n",
       "      <td>-23.357929</td>\n",
       "      <td>...</td>\n",
       "      <td>-2.806385</td>\n",
       "      <td>-6.934122</td>\n",
       "      <td>-7.558619</td>\n",
       "      <td>-9.173552</td>\n",
       "      <td>-4.512166</td>\n",
       "      <td>-5.453538</td>\n",
       "      <td>-0.924162</td>\n",
       "      <td>-4.409333</td>\n",
       "      <td>-11.703781</td>\n",
       "      <td>blues</td>\n",
       "    </tr>\n",
       "  </tbody>\n",
       "</table>\n",
       "<p>5 rows × 24 columns</p>\n",
       "</div>"
      ],
      "text/plain": [
       "   chroma_stft  spectral_centroid  spectral_bandwidth       mfcc1       mfcc2  \\\n",
       "0     0.349943        1784.420446         2002.650192 -113.596742  121.557302   \n",
       "1     0.340983        1529.835316         2038.617579 -207.556796  124.006717   \n",
       "2     0.363603        1552.481958         1747.165985  -90.754394  140.459907   \n",
       "3     0.404779        1070.119953         1596.333948 -199.431144  150.099218   \n",
       "4     0.308590        1835.494603         1748.362448 -160.266031  126.198800   \n",
       "\n",
       "       mfcc3      mfcc4      mfcc5      mfcc6      mfcc7  ...    mfcc12  \\\n",
       "0 -19.158825  42.351029  -6.376457  18.618875 -13.697911  ...  8.810668   \n",
       "1   8.930562  35.874684   2.916038  21.523725  -8.554703  ...  5.376802   \n",
       "2 -29.109965  31.689014 -13.987036  25.754761 -13.649586  ...  5.789265   \n",
       "3   5.647594  26.871927   1.754463  14.238344  -4.830882  ...  6.087676   \n",
       "4 -35.605448  22.153301 -32.489270  10.864512 -23.357929  ... -2.806385   \n",
       "\n",
       "     mfcc13    mfcc14    mfcc15    mfcc16    mfcc17    mfcc18    mfcc19  \\\n",
       "0 -3.667367  5.751690 -5.162761  0.750947 -1.691937 -0.409954 -2.300208   \n",
       "1 -2.239119  4.216963 -6.012273  0.936109 -0.716537  0.293875 -0.287431   \n",
       "2 -8.905224 -1.083720 -9.218359  2.455805 -7.726901 -1.815724 -3.433434   \n",
       "3 -2.476420 -1.073890 -2.874777  0.780976 -3.316932  0.637981 -0.619690   \n",
       "4 -6.934122 -7.558619 -9.173552 -4.512166 -5.453538 -0.924162 -4.409333   \n",
       "\n",
       "      mfcc20  label  \n",
       "0   1.219928  blues  \n",
       "1   0.531573  blues  \n",
       "2  -2.226821  blues  \n",
       "3  -3.408233  blues  \n",
       "4 -11.703781  blues  \n",
       "\n",
       "[5 rows x 24 columns]"
      ]
     },
     "execution_count": 26,
     "metadata": {},
     "output_type": "execute_result"
    }
   ],
   "source": [
    "\n",
    "dataset.drop('filename',axis=1,inplace=True)\n",
    "dataset.drop('rmse',axis=1,inplace=True)\n",
    "dataset.drop('rolloff',axis=1,inplace=True)\n",
    "dataset.drop('zero_crossing_rate',axis=1,inplace=True)\n",
    "\n",
    "\n",
    "dataset.head()"
   ]
  },
  {
   "cell_type": "code",
   "execution_count": 27,
   "metadata": {},
   "outputs": [
    {
     "data": {
      "image/png": "[encoded data removed]",
      "text/plain": [
       "<Figure size 432x288 with 1 Axes>"
      ]
     },
     "metadata": {
      "needs_background": "light"
     },
     "output_type": "display_data"
    }
   ],
   "source": [
    "import matplotlib.pyplot as plt \n",
    "import seaborn as sns \n",
    "\n",
    "sns.countplot(x='label' ,data= dataset, palette='hls')\n",
    "plt.show()"
   ]
  },
  {
   "cell_type": "code",
   "execution_count": 28,
   "metadata": {},
   "outputs": [],
   "source": [
    "X = dataset.iloc[:,0:23].values\n",
    "y = dataset.iloc[:,23].values\n",
    "# label_encoder object knows how to understand word labels\n",
    "from sklearn.preprocessing import LabelEncoder\n",
    "encoder =  LabelEncoder()\n",
    "y1 = encoder.fit_transform(y)\n",
    "Y = pd.get_dummies(y1).values\n",
    "\n",
    "\n",
    "from sklearn.model_selection import train_test_split\n",
    "X_train,X_test, y_train,y_test = train_test_split(X,Y,test_size=0.1)"
   ]
  },
  {
   "cell_type": "code",
   "execution_count": 29,
   "metadata": {},
   "outputs": [
    {
     "data": {
      "text/plain": [
       "100"
      ]
     },
     "execution_count": 29,
     "metadata": {},
     "output_type": "execute_result"
    }
   ],
   "source": [
    "len(X_test)\n",
    "#Y"
   ]
  },
  {
   "cell_type": "code",
   "execution_count": 30,
   "metadata": {},
   "outputs": [
    {
     "name": "stdout",
     "output_type": "stream",
     "text": [
      "Model: \"sequential_3\"\n",
      "_________________________________________________________________\n",
      "Layer (type)                 Output Shape              Param #   \n",
      "=================================================================\n",
      "dense_5 (Dense)              (None, 28)                672       \n",
      "_________________________________________________________________\n",
      "dense_6 (Dense)              (None, 10)                290       \n",
      "=================================================================\n",
      "Total params: 962\n",
      "Trainable params: 962\n",
      "Non-trainable params: 0\n",
      "_________________________________________________________________\n",
      "Train on 900 samples, validate on 100 samples\n",
      "Epoch 1/100\n",
      "900/900 [==============================] - 0s 428us/step - loss: 7.6822 - accuracy: 0.0856 - val_loss: 6.2188 - val_accuracy: 0.2500\n",
      "Epoch 2/100\n",
      "900/900 [==============================] - 0s 233us/step - loss: 7.6144 - accuracy: 0.1967 - val_loss: 6.1202 - val_accuracy: 0.1400\n",
      "Epoch 3/100\n",
      "900/900 [==============================] - 0s 205us/step - loss: 7.4856 - accuracy: 0.2389 - val_loss: 7.1748 - val_accuracy: 0.2000\n",
      "Epoch 4/100\n",
      "900/900 [==============================] - 0s 231us/step - loss: 7.3864 - accuracy: 0.2733 - val_loss: 5.8432 - val_accuracy: 0.4000\n",
      "Epoch 5/100\n",
      "900/900 [==============================] - 0s 214us/step - loss: 7.4406 - accuracy: 0.1900 - val_loss: 5.9577 - val_accuracy: 0.1900\n",
      "Epoch 6/100\n",
      "900/900 [==============================] - 0s 217us/step - loss: 7.4078 - accuracy: 0.1767 - val_loss: 5.8290 - val_accuracy: 0.2500\n",
      "Epoch 7/100\n",
      "900/900 [==============================] - 0s 208us/step - loss: 7.3738 - accuracy: 0.2956 - val_loss: 7.1643 - val_accuracy: 0.2300\n",
      "Epoch 8/100\n",
      "900/900 [==============================] - 0s 222us/step - loss: 7.5231 - accuracy: 0.2244 - val_loss: 5.8998 - val_accuracy: 0.3600\n",
      "Epoch 9/100\n",
      "900/900 [==============================] - 0s 217us/step - loss: 7.3868 - accuracy: 0.3044 - val_loss: 5.8237 - val_accuracy: 0.4300\n",
      "Epoch 10/100\n",
      "900/900 [==============================] - 0s 216us/step - loss: 7.2957 - accuracy: 0.3189 - val_loss: 5.6861 - val_accuracy: 0.4500\n",
      "Epoch 11/100\n",
      "900/900 [==============================] - 0s 214us/step - loss: 7.2482 - accuracy: 0.3156 - val_loss: 5.6493 - val_accuracy: 0.4900\n",
      "Epoch 12/100\n",
      "900/900 [==============================] - 0s 246us/step - loss: 7.2580 - accuracy: 0.3289 - val_loss: 5.8246 - val_accuracy: 0.3900\n",
      "Epoch 13/100\n",
      "900/900 [==============================] - 0s 209us/step - loss: 7.2826 - accuracy: 0.3300 - val_loss: 5.7335 - val_accuracy: 0.4200\n",
      "Epoch 14/100\n",
      "900/900 [==============================] - 0s 215us/step - loss: 7.3673 - accuracy: 0.3233 - val_loss: 5.7220 - val_accuracy: 0.3500\n",
      "Epoch 15/100\n",
      "900/900 [==============================] - 0s 217us/step - loss: 7.2784 - accuracy: 0.2956 - val_loss: 5.8701 - val_accuracy: 0.3600\n",
      "Epoch 16/100\n",
      "900/900 [==============================] - 0s 221us/step - loss: 7.3082 - accuracy: 0.3200 - val_loss: 5.7287 - val_accuracy: 0.4500\n",
      "Epoch 17/100\n",
      "900/900 [==============================] - 0s 209us/step - loss: 7.2505 - accuracy: 0.3367 - val_loss: 5.8411 - val_accuracy: 0.4300\n",
      "Epoch 18/100\n",
      "900/900 [==============================] - 0s 222us/step - loss: 7.2520 - accuracy: 0.3333 - val_loss: 5.6887 - val_accuracy: 0.4500\n",
      "Epoch 19/100\n",
      "900/900 [==============================] - 0s 215us/step - loss: 7.2204 - accuracy: 0.3189 - val_loss: 5.9250 - val_accuracy: 0.1700\n",
      "Epoch 20/100\n",
      "900/900 [==============================] - 0s 221us/step - loss: 7.2660 - accuracy: 0.2733 - val_loss: 5.6795 - val_accuracy: 0.4200\n",
      "Epoch 21/100\n",
      "900/900 [==============================] - 0s 213us/step - loss: 7.2680 - accuracy: 0.3389 - val_loss: 6.0262 - val_accuracy: 0.4600\n",
      "Epoch 22/100\n",
      "900/900 [==============================] - 0s 227us/step - loss: 7.2948 - accuracy: 0.3500 - val_loss: 5.8808 - val_accuracy: 0.3900\n",
      "Epoch 23/100\n",
      "900/900 [==============================] - 0s 214us/step - loss: 7.2143 - accuracy: 0.3333 - val_loss: 5.6035 - val_accuracy: 0.4200\n",
      "Epoch 24/100\n",
      "900/900 [==============================] - 0s 217us/step - loss: 7.2973 - accuracy: 0.2200 - val_loss: 5.7478 - val_accuracy: 0.2100\n",
      "Epoch 25/100\n",
      "900/900 [==============================] - 0s 215us/step - loss: 7.3234 - accuracy: 0.2378 - val_loss: 5.7184 - val_accuracy: 0.4200\n",
      "Epoch 26/100\n",
      "900/900 [==============================] - 0s 228us/step - loss: 7.1909 - accuracy: 0.3367 - val_loss: 5.7332 - val_accuracy: 0.4500\n",
      "Epoch 27/100\n",
      "900/900 [==============================] - 0s 242us/step - loss: 7.4489 - accuracy: 0.1856 - val_loss: 5.8845 - val_accuracy: 0.2000\n",
      "Epoch 28/100\n",
      "900/900 [==============================] - 0s 213us/step - loss: 7.4043 - accuracy: 0.1444 - val_loss: 5.8336 - val_accuracy: 0.3200\n",
      "Epoch 29/100\n",
      "900/900 [==============================] - 0s 243us/step - loss: 7.3629 - accuracy: 0.2211 - val_loss: 5.7972 - val_accuracy: 0.3700\n",
      "Epoch 30/100\n",
      "900/900 [==============================] - 0s 245us/step - loss: 7.3225 - accuracy: 0.2833 - val_loss: 5.7497 - val_accuracy: 0.4100\n",
      "Epoch 31/100\n",
      "900/900 [==============================] - 0s 233us/step - loss: 7.2726 - accuracy: 0.3300 - val_loss: 5.6947 - val_accuracy: 0.4800\n",
      "Epoch 32/100\n",
      "900/900 [==============================] - 0s 216us/step - loss: 7.2086 - accuracy: 0.3400 - val_loss: 5.6144 - val_accuracy: 0.4100\n",
      "Epoch 33/100\n",
      "900/900 [==============================] - 0s 228us/step - loss: 7.1623 - accuracy: 0.3333 - val_loss: 5.7945 - val_accuracy: 0.4400\n",
      "Epoch 34/100\n",
      "900/900 [==============================] - 0s 251us/step - loss: 7.1836 - accuracy: 0.3300 - val_loss: 5.7899 - val_accuracy: 0.4100\n",
      "Epoch 35/100\n",
      "900/900 [==============================] - 0s 420us/step - loss: 7.2155 - accuracy: 0.3333 - val_loss: 5.6448 - val_accuracy: 0.4300\n",
      "Epoch 36/100\n",
      "900/900 [==============================] - 0s 328us/step - loss: 7.5491 - accuracy: 0.2233 - val_loss: 5.8942 - val_accuracy: 0.3800\n",
      "Epoch 37/100\n",
      "900/900 [==============================] - 0s 276us/step - loss: 7.4359 - accuracy: 0.2544 - val_loss: 5.8750 - val_accuracy: 0.4000\n",
      "Epoch 38/100\n",
      "900/900 [==============================] - 0s 247us/step - loss: 7.4145 - accuracy: 0.2756 - val_loss: 5.8609 - val_accuracy: 0.4200\n",
      "Epoch 39/100\n",
      "900/900 [==============================] - 0s 227us/step - loss: 7.3953 - accuracy: 0.2978 - val_loss: 5.8414 - val_accuracy: 0.4200\n",
      "Epoch 40/100\n",
      "900/900 [==============================] - 0s 265us/step - loss: 7.3748 - accuracy: 0.3111 - val_loss: 5.8215 - val_accuracy: 0.4400\n",
      "Epoch 41/100\n",
      "900/900 [==============================] - 0s 261us/step - loss: 7.3509 - accuracy: 0.3233 - val_loss: 5.7946 - val_accuracy: 0.4400\n",
      "Epoch 42/100\n",
      "900/900 [==============================] - 0s 242us/step - loss: 7.3227 - accuracy: 0.3378 - val_loss: 5.7600 - val_accuracy: 0.4700\n",
      "Epoch 43/100\n",
      "900/900 [==============================] - 0s 420us/step - loss: 7.2890 - accuracy: 0.3444 - val_loss: 5.7227 - val_accuracy: 0.4700\n",
      "Epoch 44/100\n",
      "900/900 [==============================] - 0s 457us/step - loss: 7.2512 - accuracy: 0.3478 - val_loss: 5.6743 - val_accuracy: 0.4800\n",
      "Epoch 45/100\n",
      "900/900 [==============================] - 0s 270us/step - loss: 7.2060 - accuracy: 0.3422 - val_loss: 5.6479 - val_accuracy: 0.4400\n",
      "Epoch 46/100\n",
      "900/900 [==============================] - 0s 272us/step - loss: 7.1718 - accuracy: 0.3356 - val_loss: 5.7275 - val_accuracy: 0.3900\n",
      "Epoch 47/100\n",
      "900/900 [==============================] - 0s 268us/step - loss: 7.1692 - accuracy: 0.3411 - val_loss: 5.4802 - val_accuracy: 0.4000\n",
      "Epoch 48/100\n",
      "900/900 [==============================] - 0s 275us/step - loss: 7.1547 - accuracy: 0.3422 - val_loss: 5.5623 - val_accuracy: 0.4500\n",
      "Epoch 49/100\n",
      "900/900 [==============================] - 0s 285us/step - loss: 7.1807 - accuracy: 0.3411 - val_loss: 6.0073 - val_accuracy: 0.2700\n",
      "Epoch 50/100\n",
      "900/900 [==============================] - ETA: 0s - loss: 7.2912 - accuracy: 0.29 - 0s 254us/step - loss: 7.3052 - accuracy: 0.3011 - val_loss: 5.7504 - val_accuracy: 0.3200\n",
      "Epoch 51/100\n",
      "900/900 [==============================] - 0s 262us/step - loss: 7.2089 - accuracy: 0.3411 - val_loss: 5.7695 - val_accuracy: 0.4200\n",
      "Epoch 52/100\n",
      "900/900 [==============================] - 0s 266us/step - loss: 7.1401 - accuracy: 0.3533 - val_loss: 5.8375 - val_accuracy: 0.4600\n",
      "Epoch 53/100\n",
      "900/900 [==============================] - 0s 267us/step - loss: 7.2101 - accuracy: 0.3367 - val_loss: 5.6352 - val_accuracy: 0.4600\n",
      "Epoch 54/100\n",
      "900/900 [==============================] - 0s 259us/step - loss: 7.1615 - accuracy: 0.3322 - val_loss: 5.7064 - val_accuracy: 0.4400\n",
      "Epoch 55/100\n",
      "900/900 [==============================] - 0s 258us/step - loss: 7.1516 - accuracy: 0.3467 - val_loss: 5.6967 - val_accuracy: 0.4800\n",
      "Epoch 56/100\n",
      "900/900 [==============================] - 0s 263us/step - loss: 7.2075 - accuracy: 0.3378 - val_loss: 6.8233 - val_accuracy: 0.1900\n",
      "Epoch 57/100\n",
      "900/900 [==============================] - 0s 259us/step - loss: 7.2583 - accuracy: 0.1356 - val_loss: 5.5462 - val_accuracy: 0.1600\n",
      "Epoch 58/100\n",
      "900/900 [==============================] - 0s 259us/step - loss: 6.3593 - accuracy: 0.1744 - val_loss: 5.1955 - val_accuracy: 0.2100\n",
      "Epoch 59/100\n",
      "900/900 [==============================] - 0s 254us/step - loss: 6.1835 - accuracy: 0.2111 - val_loss: 5.0117 - val_accuracy: 0.2700\n",
      "Epoch 60/100\n",
      "900/900 [==============================] - 0s 475us/step - loss: 6.0158 - accuracy: 0.2378 - val_loss: 4.9875 - val_accuracy: 0.2800\n",
      "Epoch 61/100\n",
      "900/900 [==============================] - 0s 477us/step - loss: 5.9950 - accuracy: 0.2411 - val_loss: 4.9732 - val_accuracy: 0.3200\n",
      "Epoch 62/100\n",
      "900/900 [==============================] - 0s 462us/step - loss: 5.9862 - accuracy: 0.2433 - val_loss: 4.9656 - val_accuracy: 0.3400\n",
      "Epoch 63/100\n",
      "900/900 [==============================] - 0s 469us/step - loss: 5.9786 - accuracy: 0.2544 - val_loss: 4.9587 - val_accuracy: 0.3500\n",
      "Epoch 64/100\n",
      "900/900 [==============================] - 0s 466us/step - loss: 5.9719 - accuracy: 0.2589 - val_loss: 4.9488 - val_accuracy: 0.3500\n",
      "Epoch 65/100\n",
      "900/900 [==============================] - 0s 471us/step - loss: 5.9653 - accuracy: 0.2644 - val_loss: 4.9451 - val_accuracy: 0.3500\n",
      "Epoch 66/100\n",
      "900/900 [==============================] - 0s 453us/step - loss: 5.9587 - accuracy: 0.2711 - val_loss: 4.9321 - val_accuracy: 0.3500\n",
      "Epoch 67/100\n",
      "900/900 [==============================] - 0s 468us/step - loss: 5.9520 - accuracy: 0.2789 - val_loss: 4.9335 - val_accuracy: 0.3600\n",
      "Epoch 68/100\n",
      "900/900 [==============================] - 0s 461us/step - loss: 5.9453 - accuracy: 0.2800 - val_loss: 4.9153 - val_accuracy: 0.3600\n",
      "Epoch 69/100\n",
      "900/900 [==============================] - 0s 470us/step - loss: 5.9385 - accuracy: 0.2867 - val_loss: 4.9078 - val_accuracy: 0.3600\n",
      "Epoch 70/100\n",
      "900/900 [==============================] - 0s 461us/step - loss: 5.9319 - accuracy: 0.2922 - val_loss: 4.8956 - val_accuracy: 0.3700\n",
      "Epoch 71/100\n",
      "900/900 [==============================] - 0s 470us/step - loss: 5.9262 - accuracy: 0.2933 - val_loss: 4.8857 - val_accuracy: 0.3800\n",
      "Epoch 72/100\n",
      "900/900 [==============================] - 0s 480us/step - loss: 5.9210 - accuracy: 0.2967 - val_loss: 4.8858 - val_accuracy: 0.3800\n",
      "Epoch 73/100\n",
      "900/900 [==============================] - 0s 282us/step - loss: 5.9137 - accuracy: 0.2989 - val_loss: 4.8771 - val_accuracy: 0.3800\n",
      "Epoch 74/100\n",
      "900/900 [==============================] - 0s 253us/step - loss: 5.9051 - accuracy: 0.3011 - val_loss: 4.8671 - val_accuracy: 0.3800\n",
      "Epoch 75/100\n",
      "900/900 [==============================] - 0s 465us/step - loss: 5.8964 - accuracy: 0.3044 - val_loss: 4.8563 - val_accuracy: 0.3900\n",
      "Epoch 76/100\n",
      "900/900 [==============================] - 0s 459us/step - loss: 5.8890 - accuracy: 0.3033 - val_loss: 4.8506 - val_accuracy: 0.3800\n",
      "Epoch 77/100\n",
      "900/900 [==============================] - 0s 474us/step - loss: 5.8814 - accuracy: 0.3067 - val_loss: 4.8467 - val_accuracy: 0.3800\n",
      "Epoch 78/100\n",
      "900/900 [==============================] - 0s 469us/step - loss: 5.8726 - accuracy: 0.3122 - val_loss: 4.8376 - val_accuracy: 0.4000\n",
      "Epoch 79/100\n",
      "900/900 [==============================] - 0s 479us/step - loss: 5.8641 - accuracy: 0.3111 - val_loss: 4.8182 - val_accuracy: 0.4100\n",
      "Epoch 80/100\n",
      "900/900 [==============================] - 0s 236us/step - loss: 5.8564 - accuracy: 0.3100 - val_loss: 4.7998 - val_accuracy: 0.4100\n",
      "Epoch 81/100\n",
      "900/900 [==============================] - 0s 468us/step - loss: 5.8592 - accuracy: 0.3289 - val_loss: 4.8096 - val_accuracy: 0.4100\n",
      "Epoch 82/100\n",
      "900/900 [==============================] - 0s 470us/step - loss: 5.8409 - accuracy: 0.3211 - val_loss: 4.7948 - val_accuracy: 0.4100\n",
      "Epoch 83/100\n",
      "900/900 [==============================] - 0s 466us/step - loss: 5.8324 - accuracy: 0.3233 - val_loss: 4.7817 - val_accuracy: 0.4300\n",
      "Epoch 84/100\n",
      "900/900 [==============================] - 0s 466us/step - loss: 5.8219 - accuracy: 0.3300 - val_loss: 4.7662 - val_accuracy: 0.4300\n",
      "Epoch 85/100\n",
      "900/900 [==============================] - 0s 472us/step - loss: 5.8117 - accuracy: 0.3300 - val_loss: 4.7624 - val_accuracy: 0.4200\n",
      "Epoch 86/100\n",
      "900/900 [==============================] - 0s 458us/step - loss: 5.8013 - accuracy: 0.3311 - val_loss: 4.7431 - val_accuracy: 0.4400\n",
      "Epoch 87/100\n",
      "900/900 [==============================] - 0s 300us/step - loss: 5.7925 - accuracy: 0.3367 - val_loss: 4.7451 - val_accuracy: 0.4500\n",
      "Epoch 88/100\n",
      "900/900 [==============================] - 0s 461us/step - loss: 5.7845 - accuracy: 0.3378 - val_loss: 4.7308 - val_accuracy: 0.4400\n",
      "Epoch 89/100\n",
      "900/900 [==============================] - 0s 463us/step - loss: 5.7848 - accuracy: 0.3411 - val_loss: 4.7002 - val_accuracy: 0.4300\n",
      "Epoch 90/100\n",
      "900/900 [==============================] - 0s 274us/step - loss: 5.7600 - accuracy: 0.3333 - val_loss: 4.6843 - val_accuracy: 0.4600\n",
      "Epoch 91/100\n",
      "900/900 [==============================] - 0s 263us/step - loss: 5.7532 - accuracy: 0.3400 - val_loss: 4.7054 - val_accuracy: 0.4200\n",
      "Epoch 92/100\n",
      "900/900 [==============================] - 0s 260us/step - loss: 5.7708 - accuracy: 0.3511 - val_loss: 4.7245 - val_accuracy: 0.4500\n",
      "Epoch 93/100\n",
      "900/900 [==============================] - 0s 273us/step - loss: 5.7524 - accuracy: 0.3500 - val_loss: 4.6712 - val_accuracy: 0.4300\n",
      "Epoch 94/100\n",
      "900/900 [==============================] - 0s 269us/step - loss: 5.7609 - accuracy: 0.3644 - val_loss: 4.7282 - val_accuracy: 0.4200\n",
      "Epoch 95/100\n",
      "900/900 [==============================] - 0s 263us/step - loss: 5.7465 - accuracy: 0.3600 - val_loss: 4.6822 - val_accuracy: 0.4500\n",
      "Epoch 96/100\n",
      "900/900 [==============================] - 0s 266us/step - loss: 5.7221 - accuracy: 0.3611 - val_loss: 4.6590 - val_accuracy: 0.4500\n",
      "Epoch 97/100\n",
      "900/900 [==============================] - 0s 265us/step - loss: 5.7345 - accuracy: 0.3722 - val_loss: 4.6606 - val_accuracy: 0.4600\n",
      "Epoch 98/100\n",
      "900/900 [==============================] - 0s 266us/step - loss: 5.7348 - accuracy: 0.3767 - val_loss: 4.8261 - val_accuracy: 0.4500\n",
      "Epoch 99/100\n",
      "900/900 [==============================] - 0s 264us/step - loss: 5.7404 - accuracy: 0.3711 - val_loss: 4.7894 - val_accuracy: 0.4700\n",
      "Epoch 100/100\n",
      "900/900 [==============================] - 0s 263us/step - loss: 5.7797 - accuracy: 0.3744 - val_loss: 4.8947 - val_accuracy: 0.4800\n"
     ]
    },
    {
     "data": {
      "text/plain": [
       "<keras.callbacks.callbacks.History at 0x20327f81848>"
      ]
     },
     "execution_count": 30,
     "metadata": {},
     "output_type": "execute_result"
    }
   ],
   "source": [
    "model = Sequential()\n",
    "\n",
    "model.add(Dense(28,input_shape=(23,),activation='relu'))\n",
    "model.add(Dense(10,activation='relu'))\n",
    "model.compile(loss='categorical_crossentropy', optimizer='adam', metrics=['accuracy'])\n",
    "model.summary()\n",
    "model.fit(X_train, y_train,epochs=100,batch_size=10,validation_data = (X_test,y_test))"
   ]
  },
  {
   "cell_type": "code",
   "execution_count": 31,
   "metadata": {},
   "outputs": [
    {
     "name": "stdout",
     "output_type": "stream",
     "text": [
      "0.48\n"
     ]
    }
   ],
   "source": [
    "y_pred = model.predict(X_test)\n",
    "y_test_class = np.argmax(y_test,axis=1)\n",
    "y_pred_class = np.argmax(y_pred,axis=1)\n",
    "\n",
    "from sklearn.metrics import accuracy_score\n",
    "from sklearn.metrics import classification_report\n",
    "print( accuracy_score(y_test_class, y_pred_class))"
   ]
  },
  {
   "cell_type": "code",
   "execution_count": 32,
   "metadata": {},
   "outputs": [
    {
     "name": "stdout",
     "output_type": "stream",
     "text": [
      "              precision    recall  f1-score   support\n",
      "\n",
      "           0       0.48      0.87      0.62        15\n",
      "           1       0.93      0.93      0.93        14\n",
      "           2       0.14      0.15      0.15        13\n",
      "           3       0.00      0.00      0.00         8\n",
      "           4       0.00      0.00      0.00         9\n",
      "           5       0.00      0.00      0.00         7\n",
      "           6       0.64      0.82      0.72        11\n",
      "           7       0.48      0.92      0.63        12\n",
      "           8       0.00      0.00      0.00         7\n",
      "           9       0.00      0.00      0.00         4\n",
      "\n",
      "    accuracy                           0.48       100\n",
      "   macro avg       0.27      0.37      0.30       100\n",
      "weighted avg       0.35      0.48      0.40       100\n",
      "\n",
      "[[13  0  0  0  0  1  1  0  0  0]\n",
      " [ 0 13  0  0  0  1  0  0  0  0]\n",
      " [ 7  0  2  0  0  0  1  1  0  2]\n",
      " [ 2  0  0  0  0  0  2  3  0  1]\n",
      " [ 1  0  3  0  0  0  1  4  0  0]\n",
      " [ 1  1  4  0  0  0  0  1  0  0]\n",
      " [ 1  0  0  0  0  0  9  1  0  0]\n",
      " [ 0  0  1  0  0  0  0 11  0  0]\n",
      " [ 0  0  3  0  0  2  0  1  0  1]\n",
      " [ 2  0  1  0  0  0  0  1  0  0]]\n"
     ]
    },
    {
     "name": "stderr",
     "output_type": "stream",
     "text": [
      "D:\\ProgramData\\Anaconda3\\envs\\tensorflow\\lib\\site-packages\\sklearn\\metrics\\_classification.py:1272: UndefinedMetricWarning: Precision and F-score are ill-defined and being set to 0.0 in labels with no predicted samples. Use `zero_division` parameter to control this behavior.\n",
      "  _warn_prf(average, modifier, msg_start, len(result))\n"
     ]
    }
   ],
   "source": [
    "#Accuracy of the predicted values\n",
    "from sklearn.metrics import classification_report,confusion_matrix\n",
    "print(classification_report(y_test_class,y_pred_class))\n",
    "c=confusion_matrix(y_test_class,y_pred_class)\n",
    "print(c)\n"
   ]
  },
  {
   "cell_type": "code",
   "execution_count": 33,
   "metadata": {},
   "outputs": [
    {
     "data": {
      "text/plain": [
       "(10.5, -0.5)"
      ]
     },
     "execution_count": 33,
     "metadata": {},
     "output_type": "execute_result"
    },
    {
     "data": {
      "image/png": "[encoded data removed]",
      "text/plain": [
       "<Figure size 720x576 with 2 Axes>"
      ]
     },
     "metadata": {
      "needs_background": "light"
     },
     "output_type": "display_data"
    }
   ],
   "source": [
    "import numpy as np\n",
    "from numpy import linalg as LA \n",
    "import seaborn as sn\n",
    "\n",
    "df_cm = pd.DataFrame(c, index = [i for i in \"ABCDEFGHIJ\"] , columns = [i for i in \"ABCDEFGHIJ\"])\n",
    "plt.figure(figsize = (10,8))\n",
    "plt.title('confusion matrix without normalization')\n",
    "ax = sn.heatmap(df_cm, annot= True)\n",
    "bottom, top = ax.get_ylim()\n",
    "ax.set_ylim(bottom + 0.5, top - 0.5)"
   ]
  },
  {
   "cell_type": "code",
   "execution_count": 34,
   "metadata": {},
   "outputs": [],
   "source": [
    "total=np.sum(c,axis=1)\n",
    "c=c/total[:None]"
   ]
  },
  {
   "cell_type": "code",
   "execution_count": 35,
   "metadata": {},
   "outputs": [
    {
     "name": "stdout",
     "output_type": "stream",
     "text": [
      "confusion matrix with normalization\n"
     ]
    },
    {
     "data": {
      "text/plain": [
       "array([[0.86666667, 0.        , 0.        , 0.        , 0.        ,\n",
       "        0.14285714, 0.09090909, 0.        , 0.        , 0.        ],\n",
       "       [0.        , 0.92857143, 0.        , 0.        , 0.        ,\n",
       "        0.14285714, 0.        , 0.        , 0.        , 0.        ],\n",
       "       [0.46666667, 0.        , 0.15384615, 0.        , 0.        ,\n",
       "        0.        , 0.09090909, 0.08333333, 0.        , 0.5       ],\n",
       "       [0.13333333, 0.        , 0.        , 0.        , 0.        ,\n",
       "        0.        , 0.18181818, 0.25      , 0.        , 0.25      ],\n",
       "       [0.06666667, 0.        , 0.23076923, 0.        , 0.        ,\n",
       "        0.        , 0.09090909, 0.33333333, 0.        , 0.        ],\n",
       "       [0.06666667, 0.07142857, 0.30769231, 0.        , 0.        ,\n",
       "        0.        , 0.        , 0.08333333, 0.        , 0.        ],\n",
       "       [0.06666667, 0.        , 0.        , 0.        , 0.        ,\n",
       "        0.        , 0.81818182, 0.08333333, 0.        , 0.        ],\n",
       "       [0.        , 0.        , 0.07692308, 0.        , 0.        ,\n",
       "        0.        , 0.        , 0.91666667, 0.        , 0.        ],\n",
       "       [0.        , 0.        , 0.23076923, 0.        , 0.        ,\n",
       "        0.28571429, 0.        , 0.08333333, 0.        , 0.25      ],\n",
       "       [0.13333333, 0.        , 0.07692308, 0.        , 0.        ,\n",
       "        0.        , 0.        , 0.08333333, 0.        , 0.        ]])"
      ]
     },
     "execution_count": 35,
     "metadata": {},
     "output_type": "execute_result"
    }
   ],
   "source": [
    "print('confusion matrix with normalization')\n",
    "c"
   ]
  },
  {
   "cell_type": "code",
   "execution_count": 36,
   "metadata": {},
   "outputs": [
    {
     "data": {
      "text/plain": [
       "(10.5, -0.5)"
      ]
     },
     "execution_count": 36,
     "metadata": {},
     "output_type": "execute_result"
    },
    {
     "data": {
      "image/png": "[encoded data removed]",
      "text/plain": [
       "<Figure size 720x576 with 2 Axes>"
      ]
     },
     "metadata": {
      "needs_background": "light"
     },
     "output_type": "display_data"
    }
   ],
   "source": [
    "df_cm = pd.DataFrame(c, index = [i for i in \"ABCDEFGHIJ\"] , columns = [i for i in \"ABCDEFGHIJ\"])\n",
    "plt.figure(figsize = (10,8))\n",
    "plt.title('confusion matrix without normalization')\n",
    "ax = sn.heatmap(df_cm, annot= True)\n",
    "bottom, top = ax.get_ylim()\n",
    "ax.set_ylim(bottom + 0.5, top - 0.5)"
   ]
  },
  {
   "cell_type": "code",
   "execution_count": null,
   "metadata": {},
   "outputs": [],
   "source": []
  },
  {
   "cell_type": "code",
   "execution_count": null,
   "metadata": {},
   "outputs": [],
   "source": []
  },
  {
   "cell_type": "code",
   "execution_count": null,
   "metadata": {},
   "outputs": [],
   "source": []
  },
  {
   "cell_type": "code",
   "execution_count": null,
   "metadata": {},
   "outputs": [],
   "source": []
  }
 ],
 "metadata": {
  "kernelspec": {
   "display_name": "Python 3",
   "language": "python",
   "name": "python3"
  },
  "language_info": {
   "codemirror_mode": {
    "name": "ipython",
    "version": 3
   },
   "file_extension": ".py",
   "mimetype": "text/x-python",
   "name": "python",
   "nbconvert_exporter": "python",
   "pygments_lexer": "ipython3",
   "version": "3.7.7"
  }
 },
 "nbformat": 4,
 "nbformat_minor": 4
}
