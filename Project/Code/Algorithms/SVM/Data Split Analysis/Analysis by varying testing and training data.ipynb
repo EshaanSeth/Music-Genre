{
 "cells": [
  {
   "cell_type": "code",
   "execution_count": 1,
   "metadata": {},
   "outputs": [],
   "source": [
    "import pandas as pd\n",
    "import numpy as np\n",
    "import pylab as pl\n",
    "from sklearn.utils import shuffle\n",
    "import matplotlib.pyplot as plt\n",
    "%matplotlib inline"
   ]
  },
  {
   "cell_type": "code",
   "execution_count": 2,
   "metadata": {},
   "outputs": [],
   "source": [
    "data = shuffle(pd.read_csv(\"music.csv\"))"
   ]
  },
  {
   "cell_type": "code",
   "execution_count": 3,
   "metadata": {},
   "outputs": [
    {
     "data": {
      "text/plain": [
       "(1000, 28)"
      ]
     },
     "execution_count": 3,
     "metadata": {},
     "output_type": "execute_result"
    }
   ],
   "source": [
    "data.shape"
   ]
  },
  {
   "cell_type": "code",
   "execution_count": 4,
   "metadata": {},
   "outputs": [
    {
     "data": {
      "text/html": [
       "<div>\n",
       "<style scoped>\n",
       "    .dataframe tbody tr th:only-of-type {\n",
       "        vertical-align: middle;\n",
       "    }\n",
       "\n",
       "    .dataframe tbody tr th {\n",
       "        vertical-align: top;\n",
       "    }\n",
       "\n",
       "    .dataframe thead th {\n",
       "        text-align: right;\n",
       "    }\n",
       "</style>\n",
       "<table border=\"1\" class=\"dataframe\">\n",
       "  <thead>\n",
       "    <tr style=\"text-align: right;\">\n",
       "      <th></th>\n",
       "      <th>filename</th>\n",
       "      <th>chroma_stft</th>\n",
       "      <th>rmse</th>\n",
       "      <th>spectral_centroid</th>\n",
       "      <th>spectral_bandwidth</th>\n",
       "      <th>rolloff</th>\n",
       "      <th>zero_crossing_rate</th>\n",
       "      <th>mfcc1</th>\n",
       "      <th>mfcc2</th>\n",
       "      <th>mfcc3</th>\n",
       "      <th>...</th>\n",
       "      <th>mfcc12</th>\n",
       "      <th>mfcc13</th>\n",
       "      <th>mfcc14</th>\n",
       "      <th>mfcc15</th>\n",
       "      <th>mfcc16</th>\n",
       "      <th>mfcc17</th>\n",
       "      <th>mfcc18</th>\n",
       "      <th>mfcc19</th>\n",
       "      <th>mfcc20</th>\n",
       "      <th>label</th>\n",
       "    </tr>\n",
       "  </thead>\n",
       "  <tbody>\n",
       "    <tr>\n",
       "      <td>876</td>\n",
       "      <td>reggae.00076.wav</td>\n",
       "      <td>0.440458</td>\n",
       "      <td>3.934441</td>\n",
       "      <td>2455.989277</td>\n",
       "      <td>2559.722919</td>\n",
       "      <td>5054.369437</td>\n",
       "      <td>0.088272</td>\n",
       "      <td>-105.677889</td>\n",
       "      <td>76.102924</td>\n",
       "      <td>19.509347</td>\n",
       "      <td>...</td>\n",
       "      <td>-2.192463</td>\n",
       "      <td>-1.506213</td>\n",
       "      <td>2.640891</td>\n",
       "      <td>2.120583</td>\n",
       "      <td>1.428914</td>\n",
       "      <td>3.844995</td>\n",
       "      <td>5.693852</td>\n",
       "      <td>-0.138507</td>\n",
       "      <td>-1.555092</td>\n",
       "      <td>reggae</td>\n",
       "    </tr>\n",
       "    <tr>\n",
       "      <td>188</td>\n",
       "      <td>classical.00088.wav</td>\n",
       "      <td>0.294135</td>\n",
       "      <td>-11.098101</td>\n",
       "      <td>1302.662455</td>\n",
       "      <td>1455.251726</td>\n",
       "      <td>2347.185807</td>\n",
       "      <td>0.070536</td>\n",
       "      <td>-299.775531</td>\n",
       "      <td>157.336859</td>\n",
       "      <td>-37.354209</td>\n",
       "      <td>...</td>\n",
       "      <td>-7.837650</td>\n",
       "      <td>-2.732071</td>\n",
       "      <td>-1.108236</td>\n",
       "      <td>1.650344</td>\n",
       "      <td>3.642179</td>\n",
       "      <td>3.084369</td>\n",
       "      <td>0.109205</td>\n",
       "      <td>-0.795172</td>\n",
       "      <td>-2.738005</td>\n",
       "      <td>classical</td>\n",
       "    </tr>\n",
       "    <tr>\n",
       "      <td>690</td>\n",
       "      <td>metal.00090.wav</td>\n",
       "      <td>0.426885</td>\n",
       "      <td>3.292297</td>\n",
       "      <td>2141.608766</td>\n",
       "      <td>2217.275314</td>\n",
       "      <td>4682.588352</td>\n",
       "      <td>0.084678</td>\n",
       "      <td>-93.466329</td>\n",
       "      <td>100.659428</td>\n",
       "      <td>-23.376745</td>\n",
       "      <td>...</td>\n",
       "      <td>23.037571</td>\n",
       "      <td>-9.966016</td>\n",
       "      <td>4.163811</td>\n",
       "      <td>-12.804138</td>\n",
       "      <td>1.793726</td>\n",
       "      <td>-2.022721</td>\n",
       "      <td>1.938351</td>\n",
       "      <td>-9.064212</td>\n",
       "      <td>-7.048717</td>\n",
       "      <td>metal</td>\n",
       "    </tr>\n",
       "    <tr>\n",
       "      <td>322</td>\n",
       "      <td>disco.00022.wav</td>\n",
       "      <td>0.436498</td>\n",
       "      <td>1.153798</td>\n",
       "      <td>3707.398851</td>\n",
       "      <td>3249.407534</td>\n",
       "      <td>7806.994459</td>\n",
       "      <td>0.172900</td>\n",
       "      <td>-71.921913</td>\n",
       "      <td>46.885171</td>\n",
       "      <td>21.032876</td>\n",
       "      <td>...</td>\n",
       "      <td>-1.561577</td>\n",
       "      <td>-3.622247</td>\n",
       "      <td>-3.817346</td>\n",
       "      <td>-5.291046</td>\n",
       "      <td>-2.922674</td>\n",
       "      <td>-2.899888</td>\n",
       "      <td>-1.799633</td>\n",
       "      <td>-0.712630</td>\n",
       "      <td>-0.983584</td>\n",
       "      <td>disco</td>\n",
       "    </tr>\n",
       "    <tr>\n",
       "      <td>498</td>\n",
       "      <td>hiphop.00098.wav</td>\n",
       "      <td>0.533298</td>\n",
       "      <td>2.428911</td>\n",
       "      <td>2538.368061</td>\n",
       "      <td>2341.604484</td>\n",
       "      <td>5353.609294</td>\n",
       "      <td>0.100670</td>\n",
       "      <td>-129.918275</td>\n",
       "      <td>71.996670</td>\n",
       "      <td>-23.235324</td>\n",
       "      <td>...</td>\n",
       "      <td>14.666472</td>\n",
       "      <td>-2.934063</td>\n",
       "      <td>9.043224</td>\n",
       "      <td>-4.725942</td>\n",
       "      <td>5.380304</td>\n",
       "      <td>-2.408319</td>\n",
       "      <td>1.620739</td>\n",
       "      <td>-5.978244</td>\n",
       "      <td>-0.826952</td>\n",
       "      <td>hiphop</td>\n",
       "    </tr>\n",
       "  </tbody>\n",
       "</table>\n",
       "<p>5 rows × 28 columns</p>\n",
       "</div>"
      ],
      "text/plain": [
       "                filename  chroma_stft       rmse  spectral_centroid  \\\n",
       "876     reggae.00076.wav     0.440458   3.934441        2455.989277   \n",
       "188  classical.00088.wav     0.294135 -11.098101        1302.662455   \n",
       "690      metal.00090.wav     0.426885   3.292297        2141.608766   \n",
       "322      disco.00022.wav     0.436498   1.153798        3707.398851   \n",
       "498     hiphop.00098.wav     0.533298   2.428911        2538.368061   \n",
       "\n",
       "     spectral_bandwidth      rolloff  zero_crossing_rate       mfcc1  \\\n",
       "876         2559.722919  5054.369437            0.088272 -105.677889   \n",
       "188         1455.251726  2347.185807            0.070536 -299.775531   \n",
       "690         2217.275314  4682.588352            0.084678  -93.466329   \n",
       "322         3249.407534  7806.994459            0.172900  -71.921913   \n",
       "498         2341.604484  5353.609294            0.100670 -129.918275   \n",
       "\n",
       "          mfcc2      mfcc3  ...     mfcc12    mfcc13    mfcc14     mfcc15  \\\n",
       "876   76.102924  19.509347  ...  -2.192463 -1.506213  2.640891   2.120583   \n",
       "188  157.336859 -37.354209  ...  -7.837650 -2.732071 -1.108236   1.650344   \n",
       "690  100.659428 -23.376745  ...  23.037571 -9.966016  4.163811 -12.804138   \n",
       "322   46.885171  21.032876  ...  -1.561577 -3.622247 -3.817346  -5.291046   \n",
       "498   71.996670 -23.235324  ...  14.666472 -2.934063  9.043224  -4.725942   \n",
       "\n",
       "       mfcc16    mfcc17    mfcc18    mfcc19    mfcc20      label  \n",
       "876  1.428914  3.844995  5.693852 -0.138507 -1.555092     reggae  \n",
       "188  3.642179  3.084369  0.109205 -0.795172 -2.738005  classical  \n",
       "690  1.793726 -2.022721  1.938351 -9.064212 -7.048717      metal  \n",
       "322 -2.922674 -2.899888 -1.799633 -0.712630 -0.983584      disco  \n",
       "498  5.380304 -2.408319  1.620739 -5.978244 -0.826952     hiphop  \n",
       "\n",
       "[5 rows x 28 columns]"
      ]
     },
     "execution_count": 4,
     "metadata": {},
     "output_type": "execute_result"
    }
   ],
   "source": [
    "data.head()"
   ]
  },
  {
   "cell_type": "code",
   "execution_count": 5,
   "metadata": {},
   "outputs": [
    {
     "data": {
      "text/plain": [
       "array([8, 1, 6, 3, 4, 5, 7, 0, 9, 2])"
      ]
     },
     "execution_count": 5,
     "metadata": {},
     "output_type": "execute_result"
    }
   ],
   "source": [
    "from sklearn import preprocessing \n",
    "  \n",
    "# label_encoder object knows how to understand word labels. \n",
    "label_encoder = preprocessing.LabelEncoder() \n",
    "  \n",
    "# Encode labels in column 'species'. \n",
    "data['label']= label_encoder.fit_transform(data['label']) \n",
    "data['filename']=label_encoder.fit_transform(data['filename'])  \n",
    "data['label'].unique() \n",
    "#bankdata['filename'].unique() "
   ]
  },
  {
   "cell_type": "code",
   "execution_count": 6,
   "metadata": {},
   "outputs": [],
   "source": [
    "X = data.drop('label', axis=1)\n",
    "X= data.drop('filename',axis=1)\n",
    "y = data['label']"
   ]
  },
  {
   "cell_type": "code",
   "execution_count": 7,
   "metadata": {},
   "outputs": [
    {
     "data": {
      "text/html": [
       "<div>\n",
       "<style scoped>\n",
       "    .dataframe tbody tr th:only-of-type {\n",
       "        vertical-align: middle;\n",
       "    }\n",
       "\n",
       "    .dataframe tbody tr th {\n",
       "        vertical-align: top;\n",
       "    }\n",
       "\n",
       "    .dataframe thead th {\n",
       "        text-align: right;\n",
       "    }\n",
       "</style>\n",
       "<table border=\"1\" class=\"dataframe\">\n",
       "  <thead>\n",
       "    <tr style=\"text-align: right;\">\n",
       "      <th></th>\n",
       "      <th>chroma_stft</th>\n",
       "      <th>rmse</th>\n",
       "      <th>spectral_centroid</th>\n",
       "      <th>spectral_bandwidth</th>\n",
       "      <th>rolloff</th>\n",
       "      <th>zero_crossing_rate</th>\n",
       "      <th>mfcc1</th>\n",
       "      <th>mfcc2</th>\n",
       "      <th>mfcc3</th>\n",
       "      <th>mfcc4</th>\n",
       "      <th>...</th>\n",
       "      <th>mfcc12</th>\n",
       "      <th>mfcc13</th>\n",
       "      <th>mfcc14</th>\n",
       "      <th>mfcc15</th>\n",
       "      <th>mfcc16</th>\n",
       "      <th>mfcc17</th>\n",
       "      <th>mfcc18</th>\n",
       "      <th>mfcc19</th>\n",
       "      <th>mfcc20</th>\n",
       "      <th>label</th>\n",
       "    </tr>\n",
       "  </thead>\n",
       "  <tbody>\n",
       "    <tr>\n",
       "      <td>876</td>\n",
       "      <td>0.440458</td>\n",
       "      <td>3.934441</td>\n",
       "      <td>2455.989277</td>\n",
       "      <td>2559.722919</td>\n",
       "      <td>5054.369437</td>\n",
       "      <td>0.088272</td>\n",
       "      <td>-105.677889</td>\n",
       "      <td>76.102924</td>\n",
       "      <td>19.509347</td>\n",
       "      <td>36.708055</td>\n",
       "      <td>...</td>\n",
       "      <td>-2.192463</td>\n",
       "      <td>-1.506213</td>\n",
       "      <td>2.640891</td>\n",
       "      <td>2.120583</td>\n",
       "      <td>1.428914</td>\n",
       "      <td>3.844995</td>\n",
       "      <td>5.693852</td>\n",
       "      <td>-0.138507</td>\n",
       "      <td>-1.555092</td>\n",
       "      <td>8</td>\n",
       "    </tr>\n",
       "    <tr>\n",
       "      <td>188</td>\n",
       "      <td>0.294135</td>\n",
       "      <td>-11.098101</td>\n",
       "      <td>1302.662455</td>\n",
       "      <td>1455.251726</td>\n",
       "      <td>2347.185807</td>\n",
       "      <td>0.070536</td>\n",
       "      <td>-299.775531</td>\n",
       "      <td>157.336859</td>\n",
       "      <td>-37.354209</td>\n",
       "      <td>15.771008</td>\n",
       "      <td>...</td>\n",
       "      <td>-7.837650</td>\n",
       "      <td>-2.732071</td>\n",
       "      <td>-1.108236</td>\n",
       "      <td>1.650344</td>\n",
       "      <td>3.642179</td>\n",
       "      <td>3.084369</td>\n",
       "      <td>0.109205</td>\n",
       "      <td>-0.795172</td>\n",
       "      <td>-2.738005</td>\n",
       "      <td>1</td>\n",
       "    </tr>\n",
       "    <tr>\n",
       "      <td>690</td>\n",
       "      <td>0.426885</td>\n",
       "      <td>3.292297</td>\n",
       "      <td>2141.608766</td>\n",
       "      <td>2217.275314</td>\n",
       "      <td>4682.588352</td>\n",
       "      <td>0.084678</td>\n",
       "      <td>-93.466329</td>\n",
       "      <td>100.659428</td>\n",
       "      <td>-23.376745</td>\n",
       "      <td>52.507715</td>\n",
       "      <td>...</td>\n",
       "      <td>23.037571</td>\n",
       "      <td>-9.966016</td>\n",
       "      <td>4.163811</td>\n",
       "      <td>-12.804138</td>\n",
       "      <td>1.793726</td>\n",
       "      <td>-2.022721</td>\n",
       "      <td>1.938351</td>\n",
       "      <td>-9.064212</td>\n",
       "      <td>-7.048717</td>\n",
       "      <td>6</td>\n",
       "    </tr>\n",
       "    <tr>\n",
       "      <td>322</td>\n",
       "      <td>0.436498</td>\n",
       "      <td>1.153798</td>\n",
       "      <td>3707.398851</td>\n",
       "      <td>3249.407534</td>\n",
       "      <td>7806.994459</td>\n",
       "      <td>0.172900</td>\n",
       "      <td>-71.921913</td>\n",
       "      <td>46.885171</td>\n",
       "      <td>21.032876</td>\n",
       "      <td>29.954266</td>\n",
       "      <td>...</td>\n",
       "      <td>-1.561577</td>\n",
       "      <td>-3.622247</td>\n",
       "      <td>-3.817346</td>\n",
       "      <td>-5.291046</td>\n",
       "      <td>-2.922674</td>\n",
       "      <td>-2.899888</td>\n",
       "      <td>-1.799633</td>\n",
       "      <td>-0.712630</td>\n",
       "      <td>-0.983584</td>\n",
       "      <td>3</td>\n",
       "    </tr>\n",
       "    <tr>\n",
       "      <td>498</td>\n",
       "      <td>0.533298</td>\n",
       "      <td>2.428911</td>\n",
       "      <td>2538.368061</td>\n",
       "      <td>2341.604484</td>\n",
       "      <td>5353.609294</td>\n",
       "      <td>0.100670</td>\n",
       "      <td>-129.918275</td>\n",
       "      <td>71.996670</td>\n",
       "      <td>-23.235324</td>\n",
       "      <td>63.223485</td>\n",
       "      <td>...</td>\n",
       "      <td>14.666472</td>\n",
       "      <td>-2.934063</td>\n",
       "      <td>9.043224</td>\n",
       "      <td>-4.725942</td>\n",
       "      <td>5.380304</td>\n",
       "      <td>-2.408319</td>\n",
       "      <td>1.620739</td>\n",
       "      <td>-5.978244</td>\n",
       "      <td>-0.826952</td>\n",
       "      <td>4</td>\n",
       "    </tr>\n",
       "  </tbody>\n",
       "</table>\n",
       "<p>5 rows × 27 columns</p>\n",
       "</div>"
      ],
      "text/plain": [
       "     chroma_stft       rmse  spectral_centroid  spectral_bandwidth  \\\n",
       "876     0.440458   3.934441        2455.989277         2559.722919   \n",
       "188     0.294135 -11.098101        1302.662455         1455.251726   \n",
       "690     0.426885   3.292297        2141.608766         2217.275314   \n",
       "322     0.436498   1.153798        3707.398851         3249.407534   \n",
       "498     0.533298   2.428911        2538.368061         2341.604484   \n",
       "\n",
       "         rolloff  zero_crossing_rate       mfcc1       mfcc2      mfcc3  \\\n",
       "876  5054.369437            0.088272 -105.677889   76.102924  19.509347   \n",
       "188  2347.185807            0.070536 -299.775531  157.336859 -37.354209   \n",
       "690  4682.588352            0.084678  -93.466329  100.659428 -23.376745   \n",
       "322  7806.994459            0.172900  -71.921913   46.885171  21.032876   \n",
       "498  5353.609294            0.100670 -129.918275   71.996670 -23.235324   \n",
       "\n",
       "         mfcc4  ...     mfcc12    mfcc13    mfcc14     mfcc15    mfcc16  \\\n",
       "876  36.708055  ...  -2.192463 -1.506213  2.640891   2.120583  1.428914   \n",
       "188  15.771008  ...  -7.837650 -2.732071 -1.108236   1.650344  3.642179   \n",
       "690  52.507715  ...  23.037571 -9.966016  4.163811 -12.804138  1.793726   \n",
       "322  29.954266  ...  -1.561577 -3.622247 -3.817346  -5.291046 -2.922674   \n",
       "498  63.223485  ...  14.666472 -2.934063  9.043224  -4.725942  5.380304   \n",
       "\n",
       "       mfcc17    mfcc18    mfcc19    mfcc20  label  \n",
       "876  3.844995  5.693852 -0.138507 -1.555092      8  \n",
       "188  3.084369  0.109205 -0.795172 -2.738005      1  \n",
       "690 -2.022721  1.938351 -9.064212 -7.048717      6  \n",
       "322 -2.899888 -1.799633 -0.712630 -0.983584      3  \n",
       "498 -2.408319  1.620739 -5.978244 -0.826952      4  \n",
       "\n",
       "[5 rows x 27 columns]"
      ]
     },
     "execution_count": 7,
     "metadata": {},
     "output_type": "execute_result"
    }
   ],
   "source": [
    "X.head()"
   ]
  },
  {
   "cell_type": "code",
   "execution_count": 8,
   "metadata": {},
   "outputs": [
    {
     "data": {
      "text/plain": [
       "876    8\n",
       "188    1\n",
       "690    6\n",
       "322    3\n",
       "498    4\n",
       "Name: label, dtype: int64"
      ]
     },
     "execution_count": 8,
     "metadata": {},
     "output_type": "execute_result"
    }
   ],
   "source": [
    "y.head()"
   ]
  },
  {
   "cell_type": "code",
   "execution_count": 9,
   "metadata": {},
   "outputs": [
    {
     "data": {
      "image/png": "[encoded data removed]",
      "text/plain": [
       "<Figure size 432x288 with 1 Axes>"
      ]
     },
     "metadata": {
      "needs_background": "light"
     },
     "output_type": "display_data"
    }
   ],
   "source": [
    "import matplotlib.pyplot as plt \n",
    "import seaborn as sns \n",
    "\n",
    "sns.countplot(x='label' , data= data, palette = 'hls')\n",
    "plt.show()"
   ]
  },
  {
   "cell_type": "code",
   "execution_count": 10,
   "metadata": {},
   "outputs": [],
   "source": [
    "#dividing 90% of dataset into training and 10% testing\n",
    "from sklearn.model_selection import train_test_split\n",
    "X_train, X_test, y_train, y_test = train_test_split(X, y, test_size = 0.10)"
   ]
  },
  {
   "cell_type": "code",
   "execution_count": 11,
   "metadata": {},
   "outputs": [
    {
     "data": {
      "text/plain": [
       "SVC(C=1.0, cache_size=200, class_weight=None, coef0=0.0,\n",
       "    decision_function_shape='ovr', degree=3, gamma='auto_deprecated',\n",
       "    kernel='linear', max_iter=-1, probability=False, random_state=None,\n",
       "    shrinking=True, tol=0.001, verbose=False)"
      ]
     },
     "execution_count": 11,
     "metadata": {},
     "output_type": "execute_result"
    }
   ],
   "source": [
    "from sklearn.svm import SVC\n",
    "svclassifier = SVC(kernel='linear')\n",
    "svclassifier.fit(X_train, y_train)"
   ]
  },
  {
   "cell_type": "code",
   "execution_count": 12,
   "metadata": {},
   "outputs": [],
   "source": [
    "y_pred = svclassifier.predict(X_test)"
   ]
  },
  {
   "cell_type": "code",
   "execution_count": 13,
   "metadata": {},
   "outputs": [
    {
     "name": "stdout",
     "output_type": "stream",
     "text": [
      "[[ 6  1  0  0  0  0  0  0  0  0]\n",
      " [ 0 10  0  0  0  0  0  0  0  0]\n",
      " [ 0  1 16  1  0  0  0  0  0  0]\n",
      " [ 0  0  2 10  1  0  0  0  0  0]\n",
      " [ 0  0  0  0  6  0  0  0  0  0]\n",
      " [ 0  0  0  0  2  9  0  0  0  0]\n",
      " [ 0  0  0  0  2  0  4  1  0  0]\n",
      " [ 0  0  0  0  0  0  0  9  0  0]\n",
      " [ 0  0  0  0  0  0  0  3  5  2]\n",
      " [ 0  0  0  0  0  0  0  1  1  7]]\n",
      "              precision    recall  f1-score   support\n",
      "\n",
      "           0       1.00      0.86      0.92         7\n",
      "           1       0.83      1.00      0.91        10\n",
      "           2       0.89      0.89      0.89        18\n",
      "           3       0.91      0.77      0.83        13\n",
      "           4       0.55      1.00      0.71         6\n",
      "           5       1.00      0.82      0.90        11\n",
      "           6       1.00      0.57      0.73         7\n",
      "           7       0.64      1.00      0.78         9\n",
      "           8       0.83      0.50      0.62        10\n",
      "           9       0.78      0.78      0.78         9\n",
      "\n",
      "    accuracy                           0.82       100\n",
      "   macro avg       0.84      0.82      0.81       100\n",
      "weighted avg       0.86      0.82      0.82       100\n",
      "\n"
     ]
    }
   ],
   "source": [
    "from sklearn.metrics import classification_report, confusion_matrix\n",
    "print(confusion_matrix(y_test, y_pred))\n",
    "print(classification_report(y_test, y_pred))"
   ]
  },
  {
   "cell_type": "code",
   "execution_count": 14,
   "metadata": {},
   "outputs": [
    {
     "data": {
      "text/plain": [
       "(10.0, 0.0)"
      ]
     },
     "execution_count": 14,
     "metadata": {},
     "output_type": "execute_result"
    },
    {
     "data": {
      "image/png": "[encoded data removed]",
      "text/plain": [
       "<Figure size 720x576 with 2 Axes>"
      ]
     },
     "metadata": {
      "needs_background": "light"
     },
     "output_type": "display_data"
    }
   ],
   "source": [
    "import numpy as np\n",
    "from numpy import linalg as LA \n",
    "import seaborn as sn\n",
    "confmat=confusion_matrix(y_test, y_pred)\n",
    "df_cm = pd.DataFrame(confmat , index = [i for i in \"ABCDEFGHIJ\"] , columns = [i for i in \"ABCDEFGHIJ\"])\n",
    "plt.figure(figsize = (10,8))\n",
    "plt.title('confusion matrix without normalization')\n",
    "ax = sn.heatmap(df_cm, annot= True)\n",
    "bottom, top = ax.get_ylim()\n",
    "ax.set_ylim(bottom + 0.5, top - 0.5)"
   ]
  },
  {
   "cell_type": "code",
   "execution_count": 15,
   "metadata": {},
   "outputs": [],
   "source": [
    "#dividing 80% of dataset into training and 20% testing\n",
    "from sklearn.model_selection import train_test_split\n",
    "X_train, X_test, y_train, y_test = train_test_split(X, y, test_size = 0.20)"
   ]
  },
  {
   "cell_type": "code",
   "execution_count": 16,
   "metadata": {},
   "outputs": [
    {
     "data": {
      "text/plain": [
       "SVC(C=1.0, cache_size=200, class_weight=None, coef0=0.0,\n",
       "    decision_function_shape='ovr', degree=3, gamma='auto_deprecated',\n",
       "    kernel='linear', max_iter=-1, probability=False, random_state=None,\n",
       "    shrinking=True, tol=0.001, verbose=False)"
      ]
     },
     "execution_count": 16,
     "metadata": {},
     "output_type": "execute_result"
    }
   ],
   "source": [
    "from sklearn.svm import SVC\n",
    "svclassifier = SVC(kernel='linear')\n",
    "svclassifier.fit(X_train, y_train)"
   ]
  },
  {
   "cell_type": "code",
   "execution_count": 17,
   "metadata": {},
   "outputs": [],
   "source": [
    "y_pred = svclassifier.predict(X_test)"
   ]
  },
  {
   "cell_type": "code",
   "execution_count": 18,
   "metadata": {},
   "outputs": [
    {
     "name": "stdout",
     "output_type": "stream",
     "text": [
      "[[19  0  0  0  0  0  0  0  0  0]\n",
      " [ 1 14  2  0  0  0  0  0  0  0]\n",
      " [ 0  1 20  1  0  0  0  0  0  0]\n",
      " [ 0  0  3 16  0  0  0  0  0  0]\n",
      " [ 0  0  0  1 16  3  0  0  0  0]\n",
      " [ 0  2  0  0  1 17  0  0  0  0]\n",
      " [ 0  0  0  0  1  0 14  0  0  0]\n",
      " [ 0  0  0  0  0  1  0 22  0  0]\n",
      " [ 0  0  0  0  0  0  1  6 15  2]\n",
      " [ 0  0  0  0  0  0  0  0  0 21]]\n",
      "              precision    recall  f1-score   support\n",
      "\n",
      "           0       0.95      1.00      0.97        19\n",
      "           1       0.82      0.82      0.82        17\n",
      "           2       0.80      0.91      0.85        22\n",
      "           3       0.89      0.84      0.86        19\n",
      "           4       0.89      0.80      0.84        20\n",
      "           5       0.81      0.85      0.83        20\n",
      "           6       0.93      0.93      0.93        15\n",
      "           7       0.79      0.96      0.86        23\n",
      "           8       1.00      0.62      0.77        24\n",
      "           9       0.91      1.00      0.95        21\n",
      "\n",
      "    accuracy                           0.87       200\n",
      "   macro avg       0.88      0.87      0.87       200\n",
      "weighted avg       0.88      0.87      0.87       200\n",
      "\n"
     ]
    }
   ],
   "source": [
    "from sklearn.metrics import classification_report, confusion_matrix\n",
    "print(confusion_matrix(y_test, y_pred))\n",
    "print(classification_report(y_test, y_pred))"
   ]
  },
  {
   "cell_type": "code",
   "execution_count": 19,
   "metadata": {},
   "outputs": [
    {
     "data": {
      "text/plain": [
       "(10.0, 0.0)"
      ]
     },
     "execution_count": 19,
     "metadata": {},
     "output_type": "execute_result"
    },
    {
     "data": {
      "image/png": "[encoded data removed]",
      "text/plain": [
       "<Figure size 720x576 with 2 Axes>"
      ]
     },
     "metadata": {
      "needs_background": "light"
     },
     "output_type": "display_data"
    }
   ],
   "source": [
    "import numpy as np\n",
    "from numpy import linalg as LA \n",
    "import seaborn as sn\n",
    "confmat=confusion_matrix(y_test, y_pred)\n",
    "df_cm = pd.DataFrame(confmat , index = [i for i in \"ABCDEFGHIJ\"] , columns = [i for i in \"ABCDEFGHIJ\"])\n",
    "plt.figure(figsize = (10,8))\n",
    "plt.title('confusion matrix without normalization')\n",
    "ax = sn.heatmap(df_cm, annot= True)\n",
    "bottom, top = ax.get_ylim()\n",
    "ax.set_ylim(bottom + 0.5, top - 0.5)"
   ]
  },
  {
   "cell_type": "code",
   "execution_count": 20,
   "metadata": {},
   "outputs": [],
   "source": [
    "#dividing 70% of dataset into training and 30% testing\n",
    "from sklearn.model_selection import train_test_split\n",
    "X_train, X_test, y_train, y_test = train_test_split(X, y, test_size = 0.30)"
   ]
  },
  {
   "cell_type": "code",
   "execution_count": 21,
   "metadata": {},
   "outputs": [
    {
     "data": {
      "text/plain": [
       "SVC(C=1.0, cache_size=200, class_weight=None, coef0=0.0,\n",
       "    decision_function_shape='ovr', degree=3, gamma='auto_deprecated',\n",
       "    kernel='linear', max_iter=-1, probability=False, random_state=None,\n",
       "    shrinking=True, tol=0.001, verbose=False)"
      ]
     },
     "execution_count": 21,
     "metadata": {},
     "output_type": "execute_result"
    }
   ],
   "source": [
    "from sklearn.svm import SVC\n",
    "svclassifier = SVC(kernel='linear')\n",
    "svclassifier.fit(X_train, y_train)"
   ]
  },
  {
   "cell_type": "code",
   "execution_count": 22,
   "metadata": {},
   "outputs": [],
   "source": [
    "y_pred = svclassifier.predict(X_test)"
   ]
  },
  {
   "cell_type": "code",
   "execution_count": 23,
   "metadata": {},
   "outputs": [
    {
     "name": "stdout",
     "output_type": "stream",
     "text": [
      "[[30  0  0  0  0  0  0  0  0  0]\n",
      " [ 0 27  3  0  0  0  0  0  0  0]\n",
      " [ 1  2 31  3  0  0  0  0  0  0]\n",
      " [ 0  1  1 18  1  0  0  0  0  0]\n",
      " [ 0  0  0  5 24  4  0  0  0  0]\n",
      " [ 0  0  0  0  0 24  0  1  0  0]\n",
      " [ 0  0  0  0  2  1 26  1  0  0]\n",
      " [ 0  0  0  0  0  0  0 21  4  0]\n",
      " [ 0  0  0  0  0  0  0  4 29  1]\n",
      " [ 0  0  0  0  0  0  0  2  6 27]]\n",
      "              precision    recall  f1-score   support\n",
      "\n",
      "           0       0.97      1.00      0.98        30\n",
      "           1       0.90      0.90      0.90        30\n",
      "           2       0.89      0.84      0.86        37\n",
      "           3       0.69      0.86      0.77        21\n",
      "           4       0.89      0.73      0.80        33\n",
      "           5       0.83      0.96      0.89        25\n",
      "           6       1.00      0.87      0.93        30\n",
      "           7       0.72      0.84      0.78        25\n",
      "           8       0.74      0.85      0.79        34\n",
      "           9       0.96      0.77      0.86        35\n",
      "\n",
      "    accuracy                           0.86       300\n",
      "   macro avg       0.86      0.86      0.86       300\n",
      "weighted avg       0.87      0.86      0.86       300\n",
      "\n"
     ]
    }
   ],
   "source": [
    "from sklearn.metrics import classification_report, confusion_matrix\n",
    "print(confusion_matrix(y_test, y_pred))\n",
    "print(classification_report(y_test, y_pred))"
   ]
  },
  {
   "cell_type": "code",
   "execution_count": 24,
   "metadata": {},
   "outputs": [
    {
     "data": {
      "text/plain": [
       "(10.0, 0.0)"
      ]
     },
     "execution_count": 24,
     "metadata": {},
     "output_type": "execute_result"
    },
    {
     "data": {
      "image/png": "[encoded data removed]",
      "text/plain": [
       "<Figure size 720x576 with 2 Axes>"
      ]
     },
     "metadata": {
      "needs_background": "light"
     },
     "output_type": "display_data"
    }
   ],
   "source": [
    "import numpy as np\n",
    "from numpy import linalg as LA \n",
    "import seaborn as sn\n",
    "confmat=confusion_matrix(y_test, y_pred)\n",
    "df_cm = pd.DataFrame(confmat , index = [i for i in \"ABCDEFGHIJ\"] , columns = [i for i in \"ABCDEFGHIJ\"])\n",
    "plt.figure(figsize = (10,8))\n",
    "plt.title('confusion matrix without normalization')\n",
    "ax = sn.heatmap(df_cm, annot= True)\n",
    "bottom, top = ax.get_ylim()\n",
    "ax.set_ylim(bottom + 0.5, top - 0.5)"
   ]
  },
  {
   "cell_type": "code",
   "execution_count": 25,
   "metadata": {},
   "outputs": [],
   "source": [
    "#dividing 60% of dataset into training and 40% testing\n",
    "from sklearn.model_selection import train_test_split\n",
    "X_train, X_test, y_train, y_test = train_test_split(X, y, test_size = 0.40)"
   ]
  },
  {
   "cell_type": "code",
   "execution_count": 26,
   "metadata": {},
   "outputs": [
    {
     "data": {
      "text/plain": [
       "SVC(C=1.0, cache_size=200, class_weight=None, coef0=0.0,\n",
       "    decision_function_shape='ovr', degree=3, gamma='auto_deprecated',\n",
       "    kernel='linear', max_iter=-1, probability=False, random_state=None,\n",
       "    shrinking=True, tol=0.001, verbose=False)"
      ]
     },
     "execution_count": 26,
     "metadata": {},
     "output_type": "execute_result"
    }
   ],
   "source": [
    "from sklearn.svm import SVC\n",
    "svclassifier = SVC(kernel='linear')\n",
    "svclassifier.fit(X_train, y_train)"
   ]
  },
  {
   "cell_type": "code",
   "execution_count": 27,
   "metadata": {},
   "outputs": [],
   "source": [
    "y_pred = svclassifier.predict(X_test)"
   ]
  },
  {
   "cell_type": "code",
   "execution_count": 28,
   "metadata": {},
   "outputs": [
    {
     "name": "stdout",
     "output_type": "stream",
     "text": [
      "[[33  0  0  0  0  0  0  0  0  0]\n",
      " [ 0 39  1  0  0  0  0  0  0  0]\n",
      " [ 4  0 36  3  0  0  0  0  0  0]\n",
      " [ 0  0  3 30  5  0  2  0  0  0]\n",
      " [ 0  0  0  4 34  2  2  0  0  0]\n",
      " [ 0  0  0  0  6 29  0  0  0  0]\n",
      " [ 0  0  0  0  7  1 38  0  0  0]\n",
      " [ 0  0  0  0  0  2  0 31  5  0]\n",
      " [ 0  0  0  0  0  0  3  3 26 12]\n",
      " [ 0  0  0  0  0  1  0  2  3 33]]\n",
      "              precision    recall  f1-score   support\n",
      "\n",
      "           0       0.89      1.00      0.94        33\n",
      "           1       1.00      0.97      0.99        40\n",
      "           2       0.90      0.84      0.87        43\n",
      "           3       0.81      0.75      0.78        40\n",
      "           4       0.65      0.81      0.72        42\n",
      "           5       0.83      0.83      0.83        35\n",
      "           6       0.84      0.83      0.84        46\n",
      "           7       0.86      0.82      0.84        38\n",
      "           8       0.76      0.59      0.67        44\n",
      "           9       0.73      0.85      0.79        39\n",
      "\n",
      "    accuracy                           0.82       400\n",
      "   macro avg       0.83      0.83      0.83       400\n",
      "weighted avg       0.83      0.82      0.82       400\n",
      "\n"
     ]
    }
   ],
   "source": [
    "from sklearn.metrics import classification_report, confusion_matrix\n",
    "print(confusion_matrix(y_test, y_pred))\n",
    "print(classification_report(y_test, y_pred))"
   ]
  },
  {
   "cell_type": "code",
   "execution_count": 29,
   "metadata": {},
   "outputs": [
    {
     "data": {
      "text/plain": [
       "(10.0, 0.0)"
      ]
     },
     "execution_count": 29,
     "metadata": {},
     "output_type": "execute_result"
    },
    {
     "data": {
      "image/png": "[encoded data removed]",
      "text/plain": [
       "<Figure size 720x576 with 2 Axes>"
      ]
     },
     "metadata": {
      "needs_background": "light"
     },
     "output_type": "display_data"
    }
   ],
   "source": [
    "import numpy as np\n",
    "from numpy import linalg as LA \n",
    "import seaborn as sn\n",
    "confmat=confusion_matrix(y_test, y_pred)\n",
    "df_cm = pd.DataFrame(confmat , index = [i for i in \"ABCDEFGHIJ\"] , columns = [i for i in \"ABCDEFGHIJ\"])\n",
    "plt.figure(figsize = (10,8))\n",
    "plt.title('confusion matrix without normalization')\n",
    "ax = sn.heatmap(df_cm, annot= True)\n",
    "bottom, top = ax.get_ylim()\n",
    "ax.set_ylim(bottom + 0.5, top - 0.5)"
   ]
  },
  {
   "cell_type": "code",
   "execution_count": 30,
   "metadata": {},
   "outputs": [],
   "source": [
    "#dividing 50% of dataset into training and 50% testing\n",
    "from sklearn.model_selection import train_test_split\n",
    "X_train, X_test, y_train, y_test = train_test_split(X, y, test_size = 0.50)"
   ]
  },
  {
   "cell_type": "code",
   "execution_count": 31,
   "metadata": {},
   "outputs": [
    {
     "data": {
      "text/plain": [
       "SVC(C=1.0, cache_size=200, class_weight=None, coef0=0.0,\n",
       "    decision_function_shape='ovr', degree=3, gamma='auto_deprecated',\n",
       "    kernel='linear', max_iter=-1, probability=False, random_state=None,\n",
       "    shrinking=True, tol=0.001, verbose=False)"
      ]
     },
     "execution_count": 31,
     "metadata": {},
     "output_type": "execute_result"
    }
   ],
   "source": [
    "from sklearn.svm import SVC\n",
    "svclassifier = SVC(kernel='linear')\n",
    "svclassifier.fit(X_train, y_train)"
   ]
  },
  {
   "cell_type": "code",
   "execution_count": 32,
   "metadata": {},
   "outputs": [],
   "source": [
    "y_pred = svclassifier.predict(X_test)"
   ]
  },
  {
   "cell_type": "code",
   "execution_count": 33,
   "metadata": {},
   "outputs": [
    {
     "name": "stdout",
     "output_type": "stream",
     "text": [
      "[[46  0  0  0  0  0  0  0  0  0]\n",
      " [ 0 38  6  0  0  0  0  0  0  0]\n",
      " [ 5  1 39  3  0  0  0  0  0  0]\n",
      " [ 0  1 11 34  4  4  0  0  0  0]\n",
      " [ 0  1  3 12 35  8  0  0  0  0]\n",
      " [ 0  9  1  1  2 44  0  0  0  0]\n",
      " [ 0  0  0  0  3  0 42  0  2  1]\n",
      " [ 0  1  0  0  0  4  0 43  4  0]\n",
      " [ 0  0  0  0  0  2  0  4 25  4]\n",
      " [ 0  0  0  0  1  0  6  8  8 34]]\n",
      "              precision    recall  f1-score   support\n",
      "\n",
      "           0       0.90      1.00      0.95        46\n",
      "           1       0.75      0.86      0.80        44\n",
      "           2       0.65      0.81      0.72        48\n",
      "           3       0.68      0.63      0.65        54\n",
      "           4       0.78      0.59      0.67        59\n",
      "           5       0.71      0.77      0.74        57\n",
      "           6       0.88      0.88      0.88        48\n",
      "           7       0.78      0.83      0.80        52\n",
      "           8       0.64      0.71      0.68        35\n",
      "           9       0.87      0.60      0.71        57\n",
      "\n",
      "    accuracy                           0.76       500\n",
      "   macro avg       0.76      0.77      0.76       500\n",
      "weighted avg       0.77      0.76      0.76       500\n",
      "\n"
     ]
    }
   ],
   "source": [
    "from sklearn.metrics import classification_report, confusion_matrix\n",
    "print(confusion_matrix(y_test, y_pred))\n",
    "print(classification_report(y_test, y_pred))"
   ]
  },
  {
   "cell_type": "code",
   "execution_count": 34,
   "metadata": {},
   "outputs": [
    {
     "data": {
      "text/plain": [
       "(10.0, 0.0)"
      ]
     },
     "execution_count": 34,
     "metadata": {},
     "output_type": "execute_result"
    },
    {
     "data": {
      "image/png": "[encoded data removed]",
      "text/plain": [
       "<Figure size 720x576 with 2 Axes>"
      ]
     },
     "metadata": {
      "needs_background": "light"
     },
     "output_type": "display_data"
    }
   ],
   "source": [
    "import numpy as np\n",
    "from numpy import linalg as LA \n",
    "import seaborn as sn\n",
    "confmat=confusion_matrix(y_test, y_pred)\n",
    "df_cm = pd.DataFrame(confmat , index = [i for i in \"ABCDEFGHIJ\"] , columns = [i for i in \"ABCDEFGHIJ\"])\n",
    "plt.figure(figsize = (10,8))\n",
    "plt.title('confusion matrix without normalization')\n",
    "ax = sn.heatmap(df_cm, annot= True)\n",
    "bottom, top = ax.get_ylim()\n",
    "ax.set_ylim(bottom + 0.5, top - 0.5)"
   ]
  },
  {
   "cell_type": "code",
   "execution_count": 35,
   "metadata": {},
   "outputs": [],
   "source": [
    "#dividing 40% of dataset into training and 60% testing\n",
    "from sklearn.model_selection import train_test_split\n",
    "X_train, X_test, y_train, y_test = train_test_split(X, y, test_size = 0.60)"
   ]
  },
  {
   "cell_type": "code",
   "execution_count": 36,
   "metadata": {},
   "outputs": [
    {
     "data": {
      "text/plain": [
       "SVC(C=1.0, cache_size=200, class_weight=None, coef0=0.0,\n",
       "    decision_function_shape='ovr', degree=3, gamma='auto_deprecated',\n",
       "    kernel='linear', max_iter=-1, probability=False, random_state=None,\n",
       "    shrinking=True, tol=0.001, verbose=False)"
      ]
     },
     "execution_count": 36,
     "metadata": {},
     "output_type": "execute_result"
    }
   ],
   "source": [
    "from sklearn.svm import SVC\n",
    "svclassifier = SVC(kernel='linear')\n",
    "svclassifier.fit(X_train, y_train)"
   ]
  },
  {
   "cell_type": "code",
   "execution_count": 37,
   "metadata": {},
   "outputs": [],
   "source": [
    "y_pred = svclassifier.predict(X_test)"
   ]
  },
  {
   "cell_type": "code",
   "execution_count": 38,
   "metadata": {},
   "outputs": [
    {
     "name": "stdout",
     "output_type": "stream",
     "text": [
      "[[47  0  6 12  0  0  7  0  0  0]\n",
      " [ 0 62  4  1  0  0  0  0  0  0]\n",
      " [ 8  2 37  7  1  1  0  0  0  0]\n",
      " [ 3  1 19 32  9  0  0  0  0  0]\n",
      " [ 3  0  4  7 39  2  1  0  0  0]\n",
      " [ 4  3  0  1  9 41  0  0  0  0]\n",
      " [ 0  0  0  5  6  0 46  0  0  2]\n",
      " [ 0  0  0  0  1  2  0 49  2  2]\n",
      " [ 0  0  0  0  1  4  3  8 27 12]\n",
      " [ 0  0  0  0  0  0  1  4 15 37]]\n",
      "              precision    recall  f1-score   support\n",
      "\n",
      "           0       0.72      0.65      0.69        72\n",
      "           1       0.91      0.93      0.92        67\n",
      "           2       0.53      0.66      0.59        56\n",
      "           3       0.49      0.50      0.50        64\n",
      "           4       0.59      0.70      0.64        56\n",
      "           5       0.82      0.71      0.76        58\n",
      "           6       0.79      0.78      0.79        59\n",
      "           7       0.80      0.88      0.84        56\n",
      "           8       0.61      0.49      0.55        55\n",
      "           9       0.70      0.65      0.67        57\n",
      "\n",
      "    accuracy                           0.69       600\n",
      "   macro avg       0.70      0.69      0.69       600\n",
      "weighted avg       0.70      0.69      0.70       600\n",
      "\n"
     ]
    }
   ],
   "source": [
    "from sklearn.metrics import classification_report, confusion_matrix\n",
    "print(confusion_matrix(y_test, y_pred))\n",
    "print(classification_report(y_test, y_pred))"
   ]
  },
  {
   "cell_type": "code",
   "execution_count": 39,
   "metadata": {},
   "outputs": [
    {
     "data": {
      "text/plain": [
       "(10.0, 0.0)"
      ]
     },
     "execution_count": 39,
     "metadata": {},
     "output_type": "execute_result"
    },
    {
     "data": {
      "image/png": "[encoded data removed]",
      "text/plain": [
       "<Figure size 720x576 with 2 Axes>"
      ]
     },
     "metadata": {
      "needs_background": "light"
     },
     "output_type": "display_data"
    }
   ],
   "source": [
    "import numpy as np\n",
    "from numpy import linalg as LA \n",
    "import seaborn as sn\n",
    "confmat=confusion_matrix(y_test, y_pred)\n",
    "df_cm = pd.DataFrame(confmat , index = [i for i in \"ABCDEFGHIJ\"] , columns = [i for i in \"ABCDEFGHIJ\"])\n",
    "plt.figure(figsize = (10,8))\n",
    "plt.title('confusion matrix without normalization')\n",
    "ax = sn.heatmap(df_cm, annot= True)\n",
    "bottom, top = ax.get_ylim()\n",
    "ax.set_ylim(bottom + 0.5, top - 0.5)"
   ]
  },
  {
   "cell_type": "code",
   "execution_count": 40,
   "metadata": {},
   "outputs": [],
   "source": [
    "#dividing 30% of dataset into training and 70% testing\n",
    "from sklearn.model_selection import train_test_split\n",
    "X_train, X_test, y_train, y_test = train_test_split(X, y, test_size = 0.70)"
   ]
  },
  {
   "cell_type": "code",
   "execution_count": 41,
   "metadata": {},
   "outputs": [
    {
     "data": {
      "text/plain": [
       "SVC(C=1.0, cache_size=200, class_weight=None, coef0=0.0,\n",
       "    decision_function_shape='ovr', degree=3, gamma='auto_deprecated',\n",
       "    kernel='linear', max_iter=-1, probability=False, random_state=None,\n",
       "    shrinking=True, tol=0.001, verbose=False)"
      ]
     },
     "execution_count": 41,
     "metadata": {},
     "output_type": "execute_result"
    }
   ],
   "source": [
    "from sklearn.svm import SVC\n",
    "svclassifier = SVC(kernel='linear')\n",
    "svclassifier.fit(X_train, y_train)"
   ]
  },
  {
   "cell_type": "code",
   "execution_count": 42,
   "metadata": {},
   "outputs": [],
   "source": [
    "y_pred = svclassifier.predict(X_test)"
   ]
  },
  {
   "cell_type": "code",
   "execution_count": 43,
   "metadata": {},
   "outputs": [
    {
     "name": "stdout",
     "output_type": "stream",
     "text": [
      "[[51  0 12  4  0  0  3  0  0  0]\n",
      " [ 0 66  5  4  0  0  0  0  0  0]\n",
      " [ 5  3 53  5  0  0  0  0  0  0]\n",
      " [ 2  0 16 45  3  0  3  1  0  0]\n",
      " [ 2  0  0 10 41  5  3  2  0  0]\n",
      " [ 2  8  1  2  4 50  0  0  0  0]\n",
      " [ 3  0  0  0 11  0 50  0  0  6]\n",
      " [ 0  0  0  0  5  3  0 53  1  6]\n",
      " [ 0  1  0  0  2 12  3 10 33 20]\n",
      " [ 0  0  0  0  0  7  1  5  5 52]]\n",
      "              precision    recall  f1-score   support\n",
      "\n",
      "           0       0.78      0.73      0.76        70\n",
      "           1       0.85      0.88      0.86        75\n",
      "           2       0.61      0.80      0.69        66\n",
      "           3       0.64      0.64      0.64        70\n",
      "           4       0.62      0.65      0.64        63\n",
      "           5       0.65      0.75      0.69        67\n",
      "           6       0.79      0.71      0.75        70\n",
      "           7       0.75      0.78      0.76        68\n",
      "           8       0.85      0.41      0.55        81\n",
      "           9       0.62      0.74      0.68        70\n",
      "\n",
      "    accuracy                           0.71       700\n",
      "   macro avg       0.72      0.71      0.70       700\n",
      "weighted avg       0.72      0.71      0.70       700\n",
      "\n"
     ]
    }
   ],
   "source": [
    "from sklearn.metrics import classification_report, confusion_matrix\n",
    "print(confusion_matrix(y_test, y_pred))\n",
    "print(classification_report(y_test, y_pred))"
   ]
  },
  {
   "cell_type": "code",
   "execution_count": 44,
   "metadata": {},
   "outputs": [
    {
     "data": {
      "text/plain": [
       "(10.0, 0.0)"
      ]
     },
     "execution_count": 44,
     "metadata": {},
     "output_type": "execute_result"
    },
    {
     "data": {
      "image/png": "[encoded data removed]",
      "text/plain": [
       "<Figure size 720x576 with 2 Axes>"
      ]
     },
     "metadata": {
      "needs_background": "light"
     },
     "output_type": "display_data"
    }
   ],
   "source": [
    "import numpy as np\n",
    "from numpy import linalg as LA \n",
    "import seaborn as sn\n",
    "confmat=confusion_matrix(y_test, y_pred)\n",
    "df_cm = pd.DataFrame(confmat , index = [i for i in \"ABCDEFGHIJ\"] , columns = [i for i in \"ABCDEFGHIJ\"])\n",
    "plt.figure(figsize = (10,8))\n",
    "plt.title('confusion matrix without normalization')\n",
    "ax = sn.heatmap(df_cm, annot= True)\n",
    "bottom, top = ax.get_ylim()\n",
    "ax.set_ylim(bottom + 0.5, top - 0.5)"
   ]
  },
  {
   "cell_type": "code",
   "execution_count": 45,
   "metadata": {},
   "outputs": [],
   "source": [
    "#dividing 20% of dataset into training and 80% testing\n",
    "from sklearn.model_selection import train_test_split\n",
    "X_train, X_test, y_train, y_test = train_test_split(X, y, test_size = 0.80)"
   ]
  },
  {
   "cell_type": "code",
   "execution_count": 46,
   "metadata": {},
   "outputs": [
    {
     "data": {
      "text/plain": [
       "SVC(C=1.0, cache_size=200, class_weight=None, coef0=0.0,\n",
       "    decision_function_shape='ovr', degree=3, gamma='auto_deprecated',\n",
       "    kernel='linear', max_iter=-1, probability=False, random_state=None,\n",
       "    shrinking=True, tol=0.001, verbose=False)"
      ]
     },
     "execution_count": 46,
     "metadata": {},
     "output_type": "execute_result"
    }
   ],
   "source": [
    "from sklearn.svm import SVC\n",
    "svclassifier = SVC(kernel='linear')\n",
    "svclassifier.fit(X_train, y_train)"
   ]
  },
  {
   "cell_type": "code",
   "execution_count": 47,
   "metadata": {},
   "outputs": [],
   "source": [
    "y_pred = svclassifier.predict(X_test)"
   ]
  },
  {
   "cell_type": "code",
   "execution_count": 48,
   "metadata": {},
   "outputs": [
    {
     "name": "stdout",
     "output_type": "stream",
     "text": [
      "[[49  0 13  0  2  3  7  0  0  0]\n",
      " [ 0 72  2  0  0  1  0  0  0  0]\n",
      " [ 8  3 50  6  5  3  0  2  0  0]\n",
      " [ 9  2 13 35 12  0  8  7  0  0]\n",
      " [ 4  2 17 11 26  2 12  3  0  0]\n",
      " [ 6  6 19  5  4 31  2  3  5  1]\n",
      " [ 1  0  0  1 11  0 64  0  0  6]\n",
      " [ 0  3  0 12  9  0  0 49  9  4]\n",
      " [ 1  4  0  2  0  7  5  9 38 11]\n",
      " [ 0  1  0  5  0  1  5  6 13 52]]\n",
      "              precision    recall  f1-score   support\n",
      "\n",
      "           0       0.63      0.66      0.64        74\n",
      "           1       0.77      0.96      0.86        75\n",
      "           2       0.44      0.65      0.52        77\n",
      "           3       0.45      0.41      0.43        86\n",
      "           4       0.38      0.34      0.36        77\n",
      "           5       0.65      0.38      0.48        82\n",
      "           6       0.62      0.77      0.69        83\n",
      "           7       0.62      0.57      0.59        86\n",
      "           8       0.58      0.49      0.54        77\n",
      "           9       0.70      0.63      0.66        83\n",
      "\n",
      "    accuracy                           0.58       800\n",
      "   macro avg       0.58      0.59      0.58       800\n",
      "weighted avg       0.58      0.58      0.58       800\n",
      "\n"
     ]
    }
   ],
   "source": [
    "from sklearn.metrics import classification_report, confusion_matrix\n",
    "print(confusion_matrix(y_test, y_pred))\n",
    "print(classification_report(y_test, y_pred))"
   ]
  },
  {
   "cell_type": "code",
   "execution_count": 49,
   "metadata": {},
   "outputs": [
    {
     "data": {
      "text/plain": [
       "(10.0, 0.0)"
      ]
     },
     "execution_count": 49,
     "metadata": {},
     "output_type": "execute_result"
    },
    {
     "data": {
      "image/png": "[encoded data removed]",
      "text/plain": [
       "<Figure size 720x576 with 2 Axes>"
      ]
     },
     "metadata": {
      "needs_background": "light"
     },
     "output_type": "display_data"
    }
   ],
   "source": [
    "import numpy as np\n",
    "from numpy import linalg as LA \n",
    "import seaborn as sn\n",
    "confmat=confusion_matrix(y_test, y_pred)\n",
    "df_cm = pd.DataFrame(confmat , index = [i for i in \"ABCDEFGHIJ\"] , columns = [i for i in \"ABCDEFGHIJ\"])\n",
    "plt.figure(figsize = (10,8))\n",
    "plt.title('confusion matrix without normalization')\n",
    "ax = sn.heatmap(df_cm, annot= True)\n",
    "bottom, top = ax.get_ylim()\n",
    "ax.set_ylim(bottom + 0.5, top - 0.5)"
   ]
  },
  {
   "cell_type": "code",
   "execution_count": 51,
   "metadata": {},
   "outputs": [
    {
     "data": {
      "image/png": "[encoded data removed]",
      "text/plain": [
       "<Figure size 432x288 with 1 Axes>"
      ]
     },
     "metadata": {
      "needs_background": "light"
     },
     "output_type": "display_data"
    }
   ],
   "source": [
    "# importing the required module \n",
    "import matplotlib.pyplot as plt \n",
    "  \n",
    "# x axis values \n",
    "x = [0.1,0.2,0.3,0.4,0.5,0.6,0.7,0.8] \n",
    "# corresponding y axis values \n",
    "y = [0.82,0.87,0.86,0.82,0.76,0.69,0.71,0.58] \n",
    "  \n",
    "# plotting the points  \n",
    "plt.plot(x, y) \n",
    "  \n",
    "# naming the x axis \n",
    "plt.xlabel('Splitting Ratio') \n",
    "# naming the y axis \n",
    "plt.ylabel('Accuracy') \n",
    "  \n",
    "# giving a title to my graph \n",
    "plt.title('Splitting data analysis') \n",
    "  \n",
    "# function to show the plot \n",
    "plt.show() "
   ]
  },
  {
   "cell_type": "code",
   "execution_count": null,
   "metadata": {},
   "outputs": [],
   "source": []
  }
 ],
 "metadata": {
  "kernelspec": {
   "display_name": "Python 3",
   "language": "python",
   "name": "python3"
  },
  "language_info": {
   "codemirror_mode": {
    "name": "ipython",
    "version": 3
   },
   "file_extension": ".py",
   "mimetype": "text/x-python",
   "name": "python",
   "nbconvert_exporter": "python",
   "pygments_lexer": "ipython3",
   "version": "3.7.4"
  }
 },
 "nbformat": 4,
 "nbformat_minor": 4
}
